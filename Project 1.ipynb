{
 "cells": [
  {
   "cell_type": "code",
   "execution_count": 106,
   "metadata": {
    "collapsed": false
   },
   "outputs": [],
   "source": [
    "import numpy as np\n",
    "import pandas as pd\n",
    "import matplotlib.pyplot as pp"
   ]
  },
  {
   "cell_type": "code",
   "execution_count": 107,
   "metadata": {
    "collapsed": true
   },
   "outputs": [],
   "source": [
    "import cufflinks as cf\n",
    "import plotly.plotly as py\n",
    "py.sign_in('ZhaohuiZach', 'd4pjn9ebl6')\n",
    "cf.set_config_file(world_readable=True,offline=False)"
   ]
  },
  {
   "cell_type": "code",
   "execution_count": 108,
   "metadata": {
    "collapsed": true
   },
   "outputs": [],
   "source": [
    "%matplotlib inline"
   ]
  },
  {
   "cell_type": "code",
   "execution_count": 109,
   "metadata": {
    "collapsed": false
   },
   "outputs": [],
   "source": [
    "import os"
   ]
  },
  {
   "cell_type": "code",
   "execution_count": 110,
   "metadata": {
    "collapsed": false
   },
   "outputs": [],
   "source": [
    "data =pd.read_csv('data.csv')"
   ]
  },
  {
   "cell_type": "code",
   "execution_count": 111,
   "metadata": {
    "collapsed": false
   },
   "outputs": [
    {
     "data": {
      "text/html": [
       "<div>\n",
       "<table border=\"1\" class=\"dataframe\">\n",
       "  <thead>\n",
       "    <tr style=\"text-align: right;\">\n",
       "      <th></th>\n",
       "      <th>Country Name</th>\n",
       "      <th>Country Code</th>\n",
       "      <th>Series Name</th>\n",
       "      <th>Series Code</th>\n",
       "      <th>2005 [YR2005]</th>\n",
       "      <th>2006 [YR2006]</th>\n",
       "      <th>2007 [YR2007]</th>\n",
       "      <th>2008 [YR2008]</th>\n",
       "      <th>2009 [YR2009]</th>\n",
       "      <th>2010 [YR2010]</th>\n",
       "      <th>2011 [YR2011]</th>\n",
       "      <th>2012 [YR2012]</th>\n",
       "      <th>2013 [YR2013]</th>\n",
       "      <th>2014 [YR2014]</th>\n",
       "    </tr>\n",
       "  </thead>\n",
       "  <tbody>\n",
       "    <tr>\n",
       "      <th>0</th>\n",
       "      <td>Argentina</td>\n",
       "      <td>ARG</td>\n",
       "      <td>GDP at market prices (current US$)</td>\n",
       "      <td>NY.GDP.MKTP.CD</td>\n",
       "      <td>2.208138e+11</td>\n",
       "      <td>2.626665e+11</td>\n",
       "      <td>3.293175e+11</td>\n",
       "      <td>4.037820e+11</td>\n",
       "      <td>3.766279e+11</td>\n",
       "      <td>4.616402e+11</td>\n",
       "      <td>5.578902e+11</td>\n",
       "      <td>6.043785e+11</td>\n",
       "      <td>6.143835e+11</td>\n",
       "      <td>5.376600e+11</td>\n",
       "    </tr>\n",
       "    <tr>\n",
       "      <th>1</th>\n",
       "      <td>Argentina</td>\n",
       "      <td>ARG</td>\n",
       "      <td>GDP per capita (current US$)</td>\n",
       "      <td>NY.GDP.PCAP.CD</td>\n",
       "      <td>5.640849e+03</td>\n",
       "      <td>6.639909e+03</td>\n",
       "      <td>8.239137e+03</td>\n",
       "      <td>9.999094e+03</td>\n",
       "      <td>9.231383e+03</td>\n",
       "      <td>1.119864e+04</td>\n",
       "      <td>1.339292e+04</td>\n",
       "      <td>1.435741e+04</td>\n",
       "      <td>1.444307e+04</td>\n",
       "      <td>1.250953e+04</td>\n",
       "    </tr>\n",
       "    <tr>\n",
       "      <th>2</th>\n",
       "      <td>Argentina</td>\n",
       "      <td>ARG</td>\n",
       "      <td>Military expenditure (% of GDP)</td>\n",
       "      <td>MS.MIL.XPND.GD.ZS</td>\n",
       "      <td>7.624486e-01</td>\n",
       "      <td>6.978792e-01</td>\n",
       "      <td>6.919820e-01</td>\n",
       "      <td>6.829941e-01</td>\n",
       "      <td>7.837617e-01</td>\n",
       "      <td>7.477786e-01</td>\n",
       "      <td>7.203260e-01</td>\n",
       "      <td>7.485965e-01</td>\n",
       "      <td>8.234826e-01</td>\n",
       "      <td>7.931637e-01</td>\n",
       "    </tr>\n",
       "    <tr>\n",
       "      <th>3</th>\n",
       "      <td>Argentina</td>\n",
       "      <td>ARG</td>\n",
       "      <td>Population, total</td>\n",
       "      <td>SP.POP.TOTL</td>\n",
       "      <td>3.914549e+07</td>\n",
       "      <td>3.955875e+07</td>\n",
       "      <td>3.996990e+07</td>\n",
       "      <td>4.038186e+07</td>\n",
       "      <td>4.079864e+07</td>\n",
       "      <td>4.122288e+07</td>\n",
       "      <td>4.165562e+07</td>\n",
       "      <td>4.209522e+07</td>\n",
       "      <td>4.253830e+07</td>\n",
       "      <td>4.298003e+07</td>\n",
       "    </tr>\n",
       "    <tr>\n",
       "      <th>4</th>\n",
       "      <td>Australia</td>\n",
       "      <td>AUS</td>\n",
       "      <td>GDP at market prices (current US$)</td>\n",
       "      <td>NY.GDP.MKTP.CD</td>\n",
       "      <td>6.930755e+11</td>\n",
       "      <td>7.468808e+11</td>\n",
       "      <td>8.530533e+11</td>\n",
       "      <td>1.054558e+12</td>\n",
       "      <td>9.265638e+11</td>\n",
       "      <td>1.142251e+12</td>\n",
       "      <td>1.389919e+12</td>\n",
       "      <td>1.537478e+12</td>\n",
       "      <td>1.563951e+12</td>\n",
       "      <td>1.454675e+12</td>\n",
       "    </tr>\n",
       "  </tbody>\n",
       "</table>\n",
       "</div>"
      ],
      "text/plain": [
       "  Country Name Country Code                         Series Name  \\\n",
       "0    Argentina          ARG  GDP at market prices (current US$)   \n",
       "1    Argentina          ARG        GDP per capita (current US$)   \n",
       "2    Argentina          ARG     Military expenditure (% of GDP)   \n",
       "3    Argentina          ARG                   Population, total   \n",
       "4    Australia          AUS  GDP at market prices (current US$)   \n",
       "\n",
       "         Series Code  2005 [YR2005]  2006 [YR2006]  2007 [YR2007]  \\\n",
       "0     NY.GDP.MKTP.CD   2.208138e+11   2.626665e+11   3.293175e+11   \n",
       "1     NY.GDP.PCAP.CD   5.640849e+03   6.639909e+03   8.239137e+03   \n",
       "2  MS.MIL.XPND.GD.ZS   7.624486e-01   6.978792e-01   6.919820e-01   \n",
       "3        SP.POP.TOTL   3.914549e+07   3.955875e+07   3.996990e+07   \n",
       "4     NY.GDP.MKTP.CD   6.930755e+11   7.468808e+11   8.530533e+11   \n",
       "\n",
       "   2008 [YR2008]  2009 [YR2009]  2010 [YR2010]  2011 [YR2011]  2012 [YR2012]  \\\n",
       "0   4.037820e+11   3.766279e+11   4.616402e+11   5.578902e+11   6.043785e+11   \n",
       "1   9.999094e+03   9.231383e+03   1.119864e+04   1.339292e+04   1.435741e+04   \n",
       "2   6.829941e-01   7.837617e-01   7.477786e-01   7.203260e-01   7.485965e-01   \n",
       "3   4.038186e+07   4.079864e+07   4.122288e+07   4.165562e+07   4.209522e+07   \n",
       "4   1.054558e+12   9.265638e+11   1.142251e+12   1.389919e+12   1.537478e+12   \n",
       "\n",
       "   2013 [YR2013]  2014 [YR2014]  \n",
       "0   6.143835e+11   5.376600e+11  \n",
       "1   1.444307e+04   1.250953e+04  \n",
       "2   8.234826e-01   7.931637e-01  \n",
       "3   4.253830e+07   4.298003e+07  \n",
       "4   1.563951e+12   1.454675e+12  "
      ]
     },
     "execution_count": 111,
     "metadata": {},
     "output_type": "execute_result"
    }
   ],
   "source": [
    "data.head()"
   ]
  },
  {
   "cell_type": "code",
   "execution_count": 112,
   "metadata": {
    "collapsed": true
   },
   "outputs": [],
   "source": [
    "DS =pd.read_csv('Data_source.csv')"
   ]
  },
  {
   "cell_type": "code",
   "execution_count": 113,
   "metadata": {
    "collapsed": false
   },
   "outputs": [
    {
     "data": {
      "text/html": [
       "<div>\n",
       "<table border=\"1\" class=\"dataframe\">\n",
       "  <thead>\n",
       "    <tr style=\"text-align: right;\">\n",
       "      <th></th>\n",
       "      <th>﻿Code</th>\n",
       "      <th>Indicator Name</th>\n",
       "      <th>Long definition</th>\n",
       "      <th>Source</th>\n",
       "    </tr>\n",
       "  </thead>\n",
       "  <tbody>\n",
       "    <tr>\n",
       "      <th>0</th>\n",
       "      <td>NY.GDP.MKTP.CD</td>\n",
       "      <td>GDP (current US$)</td>\n",
       "      <td>GDP at purchaser's prices is the sum of gross ...</td>\n",
       "      <td>World Bank national accounts data, and OECD Na...</td>\n",
       "    </tr>\n",
       "    <tr>\n",
       "      <th>1</th>\n",
       "      <td>NY.GDP.PCAP.CD</td>\n",
       "      <td>GDP per capita (current US$)</td>\n",
       "      <td>GDP per capita is gross domestic product divid...</td>\n",
       "      <td>World Bank national accounts data, and OECD Na...</td>\n",
       "    </tr>\n",
       "    <tr>\n",
       "      <th>2</th>\n",
       "      <td>MS.MIL.XPND.GD.ZS</td>\n",
       "      <td>Military expenditure (% of GDP)</td>\n",
       "      <td>Military expenditures data from SIPRI are deri...</td>\n",
       "      <td>Stockholm International Peace Research Institu...</td>\n",
       "    </tr>\n",
       "    <tr>\n",
       "      <th>3</th>\n",
       "      <td>SP.POP.TOTL</td>\n",
       "      <td>Population, total</td>\n",
       "      <td>Total population is based on the de facto defi...</td>\n",
       "      <td>(1) United Nations Population Division. World ...</td>\n",
       "    </tr>\n",
       "  </tbody>\n",
       "</table>\n",
       "</div>"
      ],
      "text/plain": [
       "               ﻿Code                   Indicator Name  \\\n",
       "0     NY.GDP.MKTP.CD                GDP (current US$)   \n",
       "1     NY.GDP.PCAP.CD     GDP per capita (current US$)   \n",
       "2  MS.MIL.XPND.GD.ZS  Military expenditure (% of GDP)   \n",
       "3        SP.POP.TOTL                Population, total   \n",
       "\n",
       "                                     Long definition  \\\n",
       "0  GDP at purchaser's prices is the sum of gross ...   \n",
       "1  GDP per capita is gross domestic product divid...   \n",
       "2  Military expenditures data from SIPRI are deri...   \n",
       "3  Total population is based on the de facto defi...   \n",
       "\n",
       "                                              Source  \n",
       "0  World Bank national accounts data, and OECD Na...  \n",
       "1  World Bank national accounts data, and OECD Na...  \n",
       "2  Stockholm International Peace Research Institu...  \n",
       "3  (1) United Nations Population Division. World ...  "
      ]
     },
     "execution_count": 113,
     "metadata": {},
     "output_type": "execute_result"
    }
   ],
   "source": [
    "DS"
   ]
  },
  {
   "cell_type": "code",
   "execution_count": 114,
   "metadata": {
    "collapsed": false
   },
   "outputs": [
    {
     "data": {
      "text/plain": [
       "['Country Name',\n",
       " 'Country Code',\n",
       " 'Series Name',\n",
       " 'Series Code',\n",
       " '2005 [YR2005]',\n",
       " '2006 [YR2006]',\n",
       " '2007 [YR2007]',\n",
       " '2008 [YR2008]',\n",
       " '2009 [YR2009]',\n",
       " '2010 [YR2010]',\n",
       " '2011 [YR2011]',\n",
       " '2012 [YR2012]',\n",
       " '2013 [YR2013]',\n",
       " '2014 [YR2014]']"
      ]
     },
     "execution_count": 114,
     "metadata": {},
     "output_type": "execute_result"
    }
   ],
   "source": [
    "list(data)"
   ]
  },
  {
   "cell_type": "code",
   "execution_count": 115,
   "metadata": {
    "collapsed": false
   },
   "outputs": [],
   "source": [
    "data = data.rename(columns = {\"Country Name\":\"Country\",\n",
    "                             \"2005 [YR2005]\":\"2005\",\n",
    "                             \"2006 [YR2006]\":\"2006\",\n",
    "                             \"2007 [YR2007]\":\"2007\",\n",
    "                             \"2008 [YR2008]\":\"2008\",\n",
    "                             \"2009 [YR2009]\":\"2009\",\n",
    "                             \"2010 [YR2010]\":\"2010\",\n",
    "                             \"2011 [YR2011]\":\"2011\",\n",
    "                             \"2012 [YR2012]\":\"2012\",\n",
    "                             \"2013 [YR2013]\":\"2013\",\n",
    "                             \"2014 [YR2014]\":\"2014\"})"
   ]
  },
  {
   "cell_type": "code",
   "execution_count": 116,
   "metadata": {
    "collapsed": false
   },
   "outputs": [
    {
     "data": {
      "text/html": [
       "<div>\n",
       "<table border=\"1\" class=\"dataframe\">\n",
       "  <thead>\n",
       "    <tr style=\"text-align: right;\">\n",
       "      <th></th>\n",
       "      <th>Country</th>\n",
       "      <th>Country Code</th>\n",
       "      <th>Series Name</th>\n",
       "      <th>Series Code</th>\n",
       "      <th>2005</th>\n",
       "      <th>2006</th>\n",
       "      <th>2007</th>\n",
       "      <th>2008</th>\n",
       "      <th>2009</th>\n",
       "      <th>2010</th>\n",
       "      <th>2011</th>\n",
       "      <th>2012</th>\n",
       "      <th>2013</th>\n",
       "      <th>2014</th>\n",
       "    </tr>\n",
       "  </thead>\n",
       "  <tbody>\n",
       "    <tr>\n",
       "      <th>0</th>\n",
       "      <td>Argentina</td>\n",
       "      <td>ARG</td>\n",
       "      <td>GDP at market prices (current US$)</td>\n",
       "      <td>NY.GDP.MKTP.CD</td>\n",
       "      <td>2.208138e+11</td>\n",
       "      <td>2.626665e+11</td>\n",
       "      <td>3.293175e+11</td>\n",
       "      <td>4.037820e+11</td>\n",
       "      <td>3.766279e+11</td>\n",
       "      <td>4.616402e+11</td>\n",
       "      <td>5.578902e+11</td>\n",
       "      <td>6.043785e+11</td>\n",
       "      <td>6.143835e+11</td>\n",
       "      <td>5.376600e+11</td>\n",
       "    </tr>\n",
       "    <tr>\n",
       "      <th>1</th>\n",
       "      <td>Argentina</td>\n",
       "      <td>ARG</td>\n",
       "      <td>GDP per capita (current US$)</td>\n",
       "      <td>NY.GDP.PCAP.CD</td>\n",
       "      <td>5.640849e+03</td>\n",
       "      <td>6.639909e+03</td>\n",
       "      <td>8.239137e+03</td>\n",
       "      <td>9.999094e+03</td>\n",
       "      <td>9.231383e+03</td>\n",
       "      <td>1.119864e+04</td>\n",
       "      <td>1.339292e+04</td>\n",
       "      <td>1.435741e+04</td>\n",
       "      <td>1.444307e+04</td>\n",
       "      <td>1.250953e+04</td>\n",
       "    </tr>\n",
       "    <tr>\n",
       "      <th>2</th>\n",
       "      <td>Argentina</td>\n",
       "      <td>ARG</td>\n",
       "      <td>Military expenditure (% of GDP)</td>\n",
       "      <td>MS.MIL.XPND.GD.ZS</td>\n",
       "      <td>7.624486e-01</td>\n",
       "      <td>6.978792e-01</td>\n",
       "      <td>6.919820e-01</td>\n",
       "      <td>6.829941e-01</td>\n",
       "      <td>7.837617e-01</td>\n",
       "      <td>7.477786e-01</td>\n",
       "      <td>7.203260e-01</td>\n",
       "      <td>7.485965e-01</td>\n",
       "      <td>8.234826e-01</td>\n",
       "      <td>7.931637e-01</td>\n",
       "    </tr>\n",
       "    <tr>\n",
       "      <th>3</th>\n",
       "      <td>Argentina</td>\n",
       "      <td>ARG</td>\n",
       "      <td>Population, total</td>\n",
       "      <td>SP.POP.TOTL</td>\n",
       "      <td>3.914549e+07</td>\n",
       "      <td>3.955875e+07</td>\n",
       "      <td>3.996990e+07</td>\n",
       "      <td>4.038186e+07</td>\n",
       "      <td>4.079864e+07</td>\n",
       "      <td>4.122288e+07</td>\n",
       "      <td>4.165562e+07</td>\n",
       "      <td>4.209522e+07</td>\n",
       "      <td>4.253830e+07</td>\n",
       "      <td>4.298003e+07</td>\n",
       "    </tr>\n",
       "  </tbody>\n",
       "</table>\n",
       "</div>"
      ],
      "text/plain": [
       "     Country Country Code                         Series Name  \\\n",
       "0  Argentina          ARG  GDP at market prices (current US$)   \n",
       "1  Argentina          ARG        GDP per capita (current US$)   \n",
       "2  Argentina          ARG     Military expenditure (% of GDP)   \n",
       "3  Argentina          ARG                   Population, total   \n",
       "\n",
       "         Series Code          2005          2006          2007          2008  \\\n",
       "0     NY.GDP.MKTP.CD  2.208138e+11  2.626665e+11  3.293175e+11  4.037820e+11   \n",
       "1     NY.GDP.PCAP.CD  5.640849e+03  6.639909e+03  8.239137e+03  9.999094e+03   \n",
       "2  MS.MIL.XPND.GD.ZS  7.624486e-01  6.978792e-01  6.919820e-01  6.829941e-01   \n",
       "3        SP.POP.TOTL  3.914549e+07  3.955875e+07  3.996990e+07  4.038186e+07   \n",
       "\n",
       "           2009          2010          2011          2012          2013  \\\n",
       "0  3.766279e+11  4.616402e+11  5.578902e+11  6.043785e+11  6.143835e+11   \n",
       "1  9.231383e+03  1.119864e+04  1.339292e+04  1.435741e+04  1.444307e+04   \n",
       "2  7.837617e-01  7.477786e-01  7.203260e-01  7.485965e-01  8.234826e-01   \n",
       "3  4.079864e+07  4.122288e+07  4.165562e+07  4.209522e+07  4.253830e+07   \n",
       "\n",
       "           2014  \n",
       "0  5.376600e+11  \n",
       "1  1.250953e+04  \n",
       "2  7.931637e-01  \n",
       "3  4.298003e+07  "
      ]
     },
     "execution_count": 116,
     "metadata": {},
     "output_type": "execute_result"
    }
   ],
   "source": [
    "data.head(4)"
   ]
  },
  {
   "cell_type": "code",
   "execution_count": 117,
   "metadata": {
    "collapsed": true
   },
   "outputs": [],
   "source": [
    "del data[\"Country Code\"],data[\"Series Code\"]"
   ]
  },
  {
   "cell_type": "code",
   "execution_count": 118,
   "metadata": {
    "collapsed": false
   },
   "outputs": [
    {
     "data": {
      "text/html": [
       "<div>\n",
       "<table border=\"1\" class=\"dataframe\">\n",
       "  <thead>\n",
       "    <tr style=\"text-align: right;\">\n",
       "      <th></th>\n",
       "      <th>Country</th>\n",
       "      <th>Series Name</th>\n",
       "      <th>2005</th>\n",
       "      <th>2006</th>\n",
       "      <th>2007</th>\n",
       "      <th>2008</th>\n",
       "      <th>2009</th>\n",
       "      <th>2010</th>\n",
       "      <th>2011</th>\n",
       "      <th>2012</th>\n",
       "      <th>2013</th>\n",
       "      <th>2014</th>\n",
       "    </tr>\n",
       "  </thead>\n",
       "  <tbody>\n",
       "    <tr>\n",
       "      <th>0</th>\n",
       "      <td>Argentina</td>\n",
       "      <td>GDP at market prices (current US$)</td>\n",
       "      <td>2.208138e+11</td>\n",
       "      <td>2.626665e+11</td>\n",
       "      <td>3.293175e+11</td>\n",
       "      <td>4.037820e+11</td>\n",
       "      <td>3.766279e+11</td>\n",
       "      <td>4.616402e+11</td>\n",
       "      <td>5.578902e+11</td>\n",
       "      <td>6.043785e+11</td>\n",
       "      <td>6.143835e+11</td>\n",
       "      <td>5.376600e+11</td>\n",
       "    </tr>\n",
       "    <tr>\n",
       "      <th>1</th>\n",
       "      <td>Argentina</td>\n",
       "      <td>GDP per capita (current US$)</td>\n",
       "      <td>5.640849e+03</td>\n",
       "      <td>6.639909e+03</td>\n",
       "      <td>8.239137e+03</td>\n",
       "      <td>9.999094e+03</td>\n",
       "      <td>9.231383e+03</td>\n",
       "      <td>1.119864e+04</td>\n",
       "      <td>1.339292e+04</td>\n",
       "      <td>1.435741e+04</td>\n",
       "      <td>1.444307e+04</td>\n",
       "      <td>1.250953e+04</td>\n",
       "    </tr>\n",
       "    <tr>\n",
       "      <th>2</th>\n",
       "      <td>Argentina</td>\n",
       "      <td>Military expenditure (% of GDP)</td>\n",
       "      <td>7.624486e-01</td>\n",
       "      <td>6.978792e-01</td>\n",
       "      <td>6.919820e-01</td>\n",
       "      <td>6.829941e-01</td>\n",
       "      <td>7.837617e-01</td>\n",
       "      <td>7.477786e-01</td>\n",
       "      <td>7.203260e-01</td>\n",
       "      <td>7.485965e-01</td>\n",
       "      <td>8.234826e-01</td>\n",
       "      <td>7.931637e-01</td>\n",
       "    </tr>\n",
       "    <tr>\n",
       "      <th>3</th>\n",
       "      <td>Argentina</td>\n",
       "      <td>Population, total</td>\n",
       "      <td>3.914549e+07</td>\n",
       "      <td>3.955875e+07</td>\n",
       "      <td>3.996990e+07</td>\n",
       "      <td>4.038186e+07</td>\n",
       "      <td>4.079864e+07</td>\n",
       "      <td>4.122288e+07</td>\n",
       "      <td>4.165562e+07</td>\n",
       "      <td>4.209522e+07</td>\n",
       "      <td>4.253830e+07</td>\n",
       "      <td>4.298003e+07</td>\n",
       "    </tr>\n",
       "    <tr>\n",
       "      <th>4</th>\n",
       "      <td>Australia</td>\n",
       "      <td>GDP at market prices (current US$)</td>\n",
       "      <td>6.930755e+11</td>\n",
       "      <td>7.468808e+11</td>\n",
       "      <td>8.530533e+11</td>\n",
       "      <td>1.054558e+12</td>\n",
       "      <td>9.265638e+11</td>\n",
       "      <td>1.142251e+12</td>\n",
       "      <td>1.389919e+12</td>\n",
       "      <td>1.537478e+12</td>\n",
       "      <td>1.563951e+12</td>\n",
       "      <td>1.454675e+12</td>\n",
       "    </tr>\n",
       "    <tr>\n",
       "      <th>5</th>\n",
       "      <td>Australia</td>\n",
       "      <td>GDP per capita (current US$)</td>\n",
       "      <td>3.398295e+04</td>\n",
       "      <td>3.608486e+04</td>\n",
       "      <td>4.095783e+04</td>\n",
       "      <td>4.962812e+04</td>\n",
       "      <td>4.271513e+04</td>\n",
       "      <td>5.184565e+04</td>\n",
       "      <td>6.221655e+04</td>\n",
       "      <td>6.764610e+04</td>\n",
       "      <td>6.762777e+04</td>\n",
       "      <td>6.192550e+04</td>\n",
       "    </tr>\n",
       "  </tbody>\n",
       "</table>\n",
       "</div>"
      ],
      "text/plain": [
       "     Country                         Series Name          2005          2006  \\\n",
       "0  Argentina  GDP at market prices (current US$)  2.208138e+11  2.626665e+11   \n",
       "1  Argentina        GDP per capita (current US$)  5.640849e+03  6.639909e+03   \n",
       "2  Argentina     Military expenditure (% of GDP)  7.624486e-01  6.978792e-01   \n",
       "3  Argentina                   Population, total  3.914549e+07  3.955875e+07   \n",
       "4  Australia  GDP at market prices (current US$)  6.930755e+11  7.468808e+11   \n",
       "5  Australia        GDP per capita (current US$)  3.398295e+04  3.608486e+04   \n",
       "\n",
       "           2007          2008          2009          2010          2011  \\\n",
       "0  3.293175e+11  4.037820e+11  3.766279e+11  4.616402e+11  5.578902e+11   \n",
       "1  8.239137e+03  9.999094e+03  9.231383e+03  1.119864e+04  1.339292e+04   \n",
       "2  6.919820e-01  6.829941e-01  7.837617e-01  7.477786e-01  7.203260e-01   \n",
       "3  3.996990e+07  4.038186e+07  4.079864e+07  4.122288e+07  4.165562e+07   \n",
       "4  8.530533e+11  1.054558e+12  9.265638e+11  1.142251e+12  1.389919e+12   \n",
       "5  4.095783e+04  4.962812e+04  4.271513e+04  5.184565e+04  6.221655e+04   \n",
       "\n",
       "           2012          2013          2014  \n",
       "0  6.043785e+11  6.143835e+11  5.376600e+11  \n",
       "1  1.435741e+04  1.444307e+04  1.250953e+04  \n",
       "2  7.485965e-01  8.234826e-01  7.931637e-01  \n",
       "3  4.209522e+07  4.253830e+07  4.298003e+07  \n",
       "4  1.537478e+12  1.563951e+12  1.454675e+12  \n",
       "5  6.764610e+04  6.762777e+04  6.192550e+04  "
      ]
     },
     "execution_count": 118,
     "metadata": {},
     "output_type": "execute_result"
    }
   ],
   "source": [
    "data.head(6)"
   ]
  },
  {
   "cell_type": "code",
   "execution_count": 119,
   "metadata": {
    "collapsed": false
   },
   "outputs": [
    {
     "data": {
      "text/html": [
       "<div>\n",
       "<table border=\"1\" class=\"dataframe\">\n",
       "  <thead>\n",
       "    <tr style=\"text-align: right;\">\n",
       "      <th></th>\n",
       "      <th>2005</th>\n",
       "      <th>2006</th>\n",
       "      <th>2007</th>\n",
       "      <th>2008</th>\n",
       "      <th>2009</th>\n",
       "      <th>2010</th>\n",
       "      <th>2011</th>\n",
       "      <th>2012</th>\n",
       "      <th>2013</th>\n",
       "      <th>2014</th>\n",
       "    </tr>\n",
       "    <tr>\n",
       "      <th>Country</th>\n",
       "      <th></th>\n",
       "      <th></th>\n",
       "      <th></th>\n",
       "      <th></th>\n",
       "      <th></th>\n",
       "      <th></th>\n",
       "      <th></th>\n",
       "      <th></th>\n",
       "      <th></th>\n",
       "      <th></th>\n",
       "    </tr>\n",
       "  </thead>\n",
       "  <tbody>\n",
       "    <tr>\n",
       "      <th>Argentina</th>\n",
       "      <td>39145491</td>\n",
       "      <td>39558750</td>\n",
       "      <td>39969903</td>\n",
       "      <td>40381860</td>\n",
       "      <td>40798641</td>\n",
       "      <td>41222875</td>\n",
       "      <td>41655616</td>\n",
       "      <td>42095224</td>\n",
       "      <td>42538304</td>\n",
       "      <td>42980026</td>\n",
       "    </tr>\n",
       "    <tr>\n",
       "      <th>Australia</th>\n",
       "      <td>20394800</td>\n",
       "      <td>20697900</td>\n",
       "      <td>20827600</td>\n",
       "      <td>21249200</td>\n",
       "      <td>21691700</td>\n",
       "      <td>22031750</td>\n",
       "      <td>22340024</td>\n",
       "      <td>22728254</td>\n",
       "      <td>23125868</td>\n",
       "      <td>23490736</td>\n",
       "    </tr>\n",
       "    <tr>\n",
       "      <th>Brazil</th>\n",
       "      <td>188479240</td>\n",
       "      <td>190698241</td>\n",
       "      <td>192784521</td>\n",
       "      <td>194769696</td>\n",
       "      <td>196701298</td>\n",
       "      <td>198614208</td>\n",
       "      <td>200517584</td>\n",
       "      <td>202401584</td>\n",
       "      <td>204259377</td>\n",
       "      <td>206077898</td>\n",
       "    </tr>\n",
       "    <tr>\n",
       "      <th>Canada</th>\n",
       "      <td>32312000</td>\n",
       "      <td>32570505</td>\n",
       "      <td>32887928</td>\n",
       "      <td>33245773</td>\n",
       "      <td>33628571</td>\n",
       "      <td>34005274</td>\n",
       "      <td>34342780</td>\n",
       "      <td>34754312</td>\n",
       "      <td>35158304</td>\n",
       "      <td>35540419</td>\n",
       "    </tr>\n",
       "    <tr>\n",
       "      <th>China</th>\n",
       "      <td>1303720000</td>\n",
       "      <td>1311020000</td>\n",
       "      <td>1317885000</td>\n",
       "      <td>1324655000</td>\n",
       "      <td>1331260000</td>\n",
       "      <td>1337705000</td>\n",
       "      <td>1344130000</td>\n",
       "      <td>1350695000</td>\n",
       "      <td>1357380000</td>\n",
       "      <td>1364270000</td>\n",
       "    </tr>\n",
       "  </tbody>\n",
       "</table>\n",
       "</div>"
      ],
      "text/plain": [
       "                 2005        2006        2007        2008        2009  \\\n",
       "Country                                                                 \n",
       "Argentina    39145491    39558750    39969903    40381860    40798641   \n",
       "Australia    20394800    20697900    20827600    21249200    21691700   \n",
       "Brazil      188479240   190698241   192784521   194769696   196701298   \n",
       "Canada       32312000    32570505    32887928    33245773    33628571   \n",
       "China      1303720000  1311020000  1317885000  1324655000  1331260000   \n",
       "\n",
       "                 2010        2011        2012        2013        2014  \n",
       "Country                                                                \n",
       "Argentina    41222875    41655616    42095224    42538304    42980026  \n",
       "Australia    22031750    22340024    22728254    23125868    23490736  \n",
       "Brazil      198614208   200517584   202401584   204259377   206077898  \n",
       "Canada       34005274    34342780    34754312    35158304    35540419  \n",
       "China      1337705000  1344130000  1350695000  1357380000  1364270000  "
      ]
     },
     "execution_count": 119,
     "metadata": {},
     "output_type": "execute_result"
    }
   ],
   "source": [
    "Total_Pop = data[data['Series Name']=='Population, total']\n",
    "del Total_Pop['Series Name']\n",
    "P = Total_Pop.set_index('Country')\n",
    "P.head()"
   ]
  },
  {
   "cell_type": "code",
   "execution_count": 120,
   "metadata": {
    "collapsed": false
   },
   "outputs": [
    {
     "data": {
      "text/html": [
       "<div>\n",
       "<table border=\"1\" class=\"dataframe\">\n",
       "  <thead>\n",
       "    <tr style=\"text-align: right;\">\n",
       "      <th></th>\n",
       "      <th>2005</th>\n",
       "      <th>2006</th>\n",
       "      <th>2007</th>\n",
       "      <th>2008</th>\n",
       "      <th>2009</th>\n",
       "      <th>2010</th>\n",
       "      <th>2011</th>\n",
       "      <th>2012</th>\n",
       "      <th>2013</th>\n",
       "      <th>2014</th>\n",
       "    </tr>\n",
       "    <tr>\n",
       "      <th>Country</th>\n",
       "      <th></th>\n",
       "      <th></th>\n",
       "      <th></th>\n",
       "      <th></th>\n",
       "      <th></th>\n",
       "      <th></th>\n",
       "      <th></th>\n",
       "      <th></th>\n",
       "      <th></th>\n",
       "      <th></th>\n",
       "    </tr>\n",
       "  </thead>\n",
       "  <tbody>\n",
       "    <tr>\n",
       "      <th>Argentina</th>\n",
       "      <td>2.208138e+11</td>\n",
       "      <td>2.626665e+11</td>\n",
       "      <td>3.293175e+11</td>\n",
       "      <td>4.037820e+11</td>\n",
       "      <td>3.766279e+11</td>\n",
       "      <td>4.616402e+11</td>\n",
       "      <td>5.578902e+11</td>\n",
       "      <td>6.043785e+11</td>\n",
       "      <td>6.143835e+11</td>\n",
       "      <td>5.376600e+11</td>\n",
       "    </tr>\n",
       "    <tr>\n",
       "      <th>Australia</th>\n",
       "      <td>6.930755e+11</td>\n",
       "      <td>7.468808e+11</td>\n",
       "      <td>8.530533e+11</td>\n",
       "      <td>1.054558e+12</td>\n",
       "      <td>9.265638e+11</td>\n",
       "      <td>1.142251e+12</td>\n",
       "      <td>1.389919e+12</td>\n",
       "      <td>1.537478e+12</td>\n",
       "      <td>1.563951e+12</td>\n",
       "      <td>1.454675e+12</td>\n",
       "    </tr>\n",
       "    <tr>\n",
       "      <th>Brazil</th>\n",
       "      <td>8.921032e+11</td>\n",
       "      <td>1.107802e+12</td>\n",
       "      <td>1.395938e+12</td>\n",
       "      <td>1.694585e+12</td>\n",
       "      <td>1.664586e+12</td>\n",
       "      <td>2.209433e+12</td>\n",
       "      <td>2.615235e+12</td>\n",
       "      <td>2.413136e+12</td>\n",
       "      <td>2.392082e+12</td>\n",
       "      <td>2.346076e+12</td>\n",
       "    </tr>\n",
       "    <tr>\n",
       "      <th>Canada</th>\n",
       "      <td>1.164144e+12</td>\n",
       "      <td>1.310753e+12</td>\n",
       "      <td>1.457872e+12</td>\n",
       "      <td>1.542619e+12</td>\n",
       "      <td>1.370840e+12</td>\n",
       "      <td>1.614014e+12</td>\n",
       "      <td>1.788796e+12</td>\n",
       "      <td>1.832716e+12</td>\n",
       "      <td>1.838964e+12</td>\n",
       "      <td>1.785387e+12</td>\n",
       "    </tr>\n",
       "    <tr>\n",
       "      <th>China</th>\n",
       "      <td>2.268599e+12</td>\n",
       "      <td>2.729784e+12</td>\n",
       "      <td>3.523094e+12</td>\n",
       "      <td>4.558431e+12</td>\n",
       "      <td>5.059420e+12</td>\n",
       "      <td>6.039659e+12</td>\n",
       "      <td>7.492432e+12</td>\n",
       "      <td>8.461623e+12</td>\n",
       "      <td>9.490603e+12</td>\n",
       "      <td>1.035483e+13</td>\n",
       "    </tr>\n",
       "  </tbody>\n",
       "</table>\n",
       "</div>"
      ],
      "text/plain": [
       "                   2005          2006          2007          2008  \\\n",
       "Country                                                             \n",
       "Argentina  2.208138e+11  2.626665e+11  3.293175e+11  4.037820e+11   \n",
       "Australia  6.930755e+11  7.468808e+11  8.530533e+11  1.054558e+12   \n",
       "Brazil     8.921032e+11  1.107802e+12  1.395938e+12  1.694585e+12   \n",
       "Canada     1.164144e+12  1.310753e+12  1.457872e+12  1.542619e+12   \n",
       "China      2.268599e+12  2.729784e+12  3.523094e+12  4.558431e+12   \n",
       "\n",
       "                   2009          2010          2011          2012  \\\n",
       "Country                                                             \n",
       "Argentina  3.766279e+11  4.616402e+11  5.578902e+11  6.043785e+11   \n",
       "Australia  9.265638e+11  1.142251e+12  1.389919e+12  1.537478e+12   \n",
       "Brazil     1.664586e+12  2.209433e+12  2.615235e+12  2.413136e+12   \n",
       "Canada     1.370840e+12  1.614014e+12  1.788796e+12  1.832716e+12   \n",
       "China      5.059420e+12  6.039659e+12  7.492432e+12  8.461623e+12   \n",
       "\n",
       "                   2013          2014  \n",
       "Country                                \n",
       "Argentina  6.143835e+11  5.376600e+11  \n",
       "Australia  1.563951e+12  1.454675e+12  \n",
       "Brazil     2.392082e+12  2.346076e+12  \n",
       "Canada     1.838964e+12  1.785387e+12  \n",
       "China      9.490603e+12  1.035483e+13  "
      ]
     },
     "execution_count": 120,
     "metadata": {},
     "output_type": "execute_result"
    }
   ],
   "source": [
    "Total_GDP = data[data['Series Name']==\"GDP at market prices (current US$)\"]\n",
    "del Total_GDP['Series Name']\n",
    "G = Total_GDP.set_index('Country')\n",
    "G.head()"
   ]
  },
  {
   "cell_type": "code",
   "execution_count": 121,
   "metadata": {
    "collapsed": false
   },
   "outputs": [
    {
     "data": {
      "text/html": [
       "<div>\n",
       "<table border=\"1\" class=\"dataframe\">\n",
       "  <thead>\n",
       "    <tr style=\"text-align: right;\">\n",
       "      <th></th>\n",
       "      <th>2005</th>\n",
       "      <th>2006</th>\n",
       "      <th>2007</th>\n",
       "      <th>2008</th>\n",
       "      <th>2009</th>\n",
       "      <th>2010</th>\n",
       "      <th>2011</th>\n",
       "      <th>2012</th>\n",
       "      <th>2013</th>\n",
       "      <th>2014</th>\n",
       "    </tr>\n",
       "    <tr>\n",
       "      <th>Country</th>\n",
       "      <th></th>\n",
       "      <th></th>\n",
       "      <th></th>\n",
       "      <th></th>\n",
       "      <th></th>\n",
       "      <th></th>\n",
       "      <th></th>\n",
       "      <th></th>\n",
       "      <th></th>\n",
       "      <th></th>\n",
       "    </tr>\n",
       "  </thead>\n",
       "  <tbody>\n",
       "    <tr>\n",
       "      <th>Argentina</th>\n",
       "      <td>0.762449</td>\n",
       "      <td>0.697879</td>\n",
       "      <td>0.691982</td>\n",
       "      <td>0.682994</td>\n",
       "      <td>0.783762</td>\n",
       "      <td>0.747779</td>\n",
       "      <td>0.720326</td>\n",
       "      <td>0.748596</td>\n",
       "      <td>0.823483</td>\n",
       "      <td>0.793164</td>\n",
       "    </tr>\n",
       "    <tr>\n",
       "      <th>Australia</th>\n",
       "      <td>1.880242</td>\n",
       "      <td>1.895675</td>\n",
       "      <td>1.890323</td>\n",
       "      <td>1.885833</td>\n",
       "      <td>1.931767</td>\n",
       "      <td>1.951809</td>\n",
       "      <td>1.828989</td>\n",
       "      <td>1.698137</td>\n",
       "      <td>1.686912</td>\n",
       "      <td>1.780064</td>\n",
       "    </tr>\n",
       "    <tr>\n",
       "      <th>Brazil</th>\n",
       "      <td>1.523205</td>\n",
       "      <td>1.480869</td>\n",
       "      <td>1.467496</td>\n",
       "      <td>1.442979</td>\n",
       "      <td>1.540875</td>\n",
       "      <td>1.539016</td>\n",
       "      <td>1.412373</td>\n",
       "      <td>1.408395</td>\n",
       "      <td>1.377781</td>\n",
       "      <td>1.344207</td>\n",
       "    </tr>\n",
       "    <tr>\n",
       "      <th>Canada</th>\n",
       "      <td>1.115644</td>\n",
       "      <td>1.129837</td>\n",
       "      <td>1.194696</td>\n",
       "      <td>1.253893</td>\n",
       "      <td>1.381359</td>\n",
       "      <td>1.196702</td>\n",
       "      <td>1.145132</td>\n",
       "      <td>1.111754</td>\n",
       "      <td>1.004022</td>\n",
       "      <td>0.977390</td>\n",
       "    </tr>\n",
       "    <tr>\n",
       "      <th>China</th>\n",
       "      <td>2.040390</td>\n",
       "      <td>2.075747</td>\n",
       "      <td>2.036420</td>\n",
       "      <td>2.010723</td>\n",
       "      <td>2.209304</td>\n",
       "      <td>2.042049</td>\n",
       "      <td>1.965408</td>\n",
       "      <td>2.004407</td>\n",
       "      <td>2.014902</td>\n",
       "      <td>2.090110</td>\n",
       "    </tr>\n",
       "  </tbody>\n",
       "</table>\n",
       "</div>"
      ],
      "text/plain": [
       "               2005      2006      2007      2008      2009      2010  \\\n",
       "Country                                                                 \n",
       "Argentina  0.762449  0.697879  0.691982  0.682994  0.783762  0.747779   \n",
       "Australia  1.880242  1.895675  1.890323  1.885833  1.931767  1.951809   \n",
       "Brazil     1.523205  1.480869  1.467496  1.442979  1.540875  1.539016   \n",
       "Canada     1.115644  1.129837  1.194696  1.253893  1.381359  1.196702   \n",
       "China      2.040390  2.075747  2.036420  2.010723  2.209304  2.042049   \n",
       "\n",
       "               2011      2012      2013      2014  \n",
       "Country                                            \n",
       "Argentina  0.720326  0.748596  0.823483  0.793164  \n",
       "Australia  1.828989  1.698137  1.686912  1.780064  \n",
       "Brazil     1.412373  1.408395  1.377781  1.344207  \n",
       "Canada     1.145132  1.111754  1.004022  0.977390  \n",
       "China      1.965408  2.004407  2.014902  2.090110  "
      ]
     },
     "execution_count": 121,
     "metadata": {},
     "output_type": "execute_result"
    }
   ],
   "source": [
    "Military_percent = data[data['Series Name']==\"Military expenditure (% of GDP)\"]\n",
    "del Military_percent['Series Name']\n",
    "Mp = Military_percent.set_index('Country')\n",
    "Mp.head()"
   ]
  },
  {
   "cell_type": "code",
   "execution_count": 122,
   "metadata": {
    "collapsed": false
   },
   "outputs": [
    {
     "data": {
      "text/html": [
       "<div>\n",
       "<table border=\"1\" class=\"dataframe\">\n",
       "  <thead>\n",
       "    <tr style=\"text-align: right;\">\n",
       "      <th></th>\n",
       "      <th>2005</th>\n",
       "      <th>2006</th>\n",
       "      <th>2007</th>\n",
       "      <th>2008</th>\n",
       "      <th>2009</th>\n",
       "      <th>2010</th>\n",
       "      <th>2011</th>\n",
       "      <th>2012</th>\n",
       "      <th>2013</th>\n",
       "      <th>2014</th>\n",
       "    </tr>\n",
       "    <tr>\n",
       "      <th>Country</th>\n",
       "      <th></th>\n",
       "      <th></th>\n",
       "      <th></th>\n",
       "      <th></th>\n",
       "      <th></th>\n",
       "      <th></th>\n",
       "      <th></th>\n",
       "      <th></th>\n",
       "      <th></th>\n",
       "      <th></th>\n",
       "    </tr>\n",
       "  </thead>\n",
       "  <tbody>\n",
       "    <tr>\n",
       "      <th>Argentina</th>\n",
       "      <td>5640.848503</td>\n",
       "      <td>6639.909435</td>\n",
       "      <td>8239.137161</td>\n",
       "      <td>9999.093517</td>\n",
       "      <td>9231.382900</td>\n",
       "      <td>11198.642567</td>\n",
       "      <td>13392.916904</td>\n",
       "      <td>14357.411589</td>\n",
       "      <td>14443.065651</td>\n",
       "      <td>12509.531118</td>\n",
       "    </tr>\n",
       "    <tr>\n",
       "      <th>Australia</th>\n",
       "      <td>33982.950427</td>\n",
       "      <td>36084.858978</td>\n",
       "      <td>40957.830439</td>\n",
       "      <td>49628.115127</td>\n",
       "      <td>42715.132262</td>\n",
       "      <td>51845.654861</td>\n",
       "      <td>62216.547129</td>\n",
       "      <td>67646.103853</td>\n",
       "      <td>67627.773335</td>\n",
       "      <td>61925.496062</td>\n",
       "    </tr>\n",
       "    <tr>\n",
       "      <th>Brazil</th>\n",
       "      <td>4733.164181</td>\n",
       "      <td>5809.189096</td>\n",
       "      <td>7240.923983</td>\n",
       "      <td>8700.455202</td>\n",
       "      <td>8462.508346</td>\n",
       "      <td>11124.245780</td>\n",
       "      <td>13042.421933</td>\n",
       "      <td>11922.513058</td>\n",
       "      <td>11711.004405</td>\n",
       "      <td>11384.415010</td>\n",
       "    </tr>\n",
       "    <tr>\n",
       "      <th>Canada</th>\n",
       "      <td>36028.232490</td>\n",
       "      <td>40243.552284</td>\n",
       "      <td>44328.475377</td>\n",
       "      <td>46400.441846</td>\n",
       "      <td>40764.141347</td>\n",
       "      <td>47463.631192</td>\n",
       "      <td>52086.533525</td>\n",
       "      <td>52733.473689</td>\n",
       "      <td>52305.258394</td>\n",
       "      <td>50235.385509</td>\n",
       "    </tr>\n",
       "    <tr>\n",
       "      <th>China</th>\n",
       "      <td>1740.096726</td>\n",
       "      <td>2082.183363</td>\n",
       "      <td>2673.294191</td>\n",
       "      <td>3441.221355</td>\n",
       "      <td>3800.474542</td>\n",
       "      <td>4514.940520</td>\n",
       "      <td>5574.187093</td>\n",
       "      <td>6264.643878</td>\n",
       "      <td>6991.853866</td>\n",
       "      <td>7590.016441</td>\n",
       "    </tr>\n",
       "  </tbody>\n",
       "</table>\n",
       "</div>"
      ],
      "text/plain": [
       "                   2005          2006          2007          2008  \\\n",
       "Country                                                             \n",
       "Argentina   5640.848503   6639.909435   8239.137161   9999.093517   \n",
       "Australia  33982.950427  36084.858978  40957.830439  49628.115127   \n",
       "Brazil      4733.164181   5809.189096   7240.923983   8700.455202   \n",
       "Canada     36028.232490  40243.552284  44328.475377  46400.441846   \n",
       "China       1740.096726   2082.183363   2673.294191   3441.221355   \n",
       "\n",
       "                   2009          2010          2011          2012  \\\n",
       "Country                                                             \n",
       "Argentina   9231.382900  11198.642567  13392.916904  14357.411589   \n",
       "Australia  42715.132262  51845.654861  62216.547129  67646.103853   \n",
       "Brazil      8462.508346  11124.245780  13042.421933  11922.513058   \n",
       "Canada     40764.141347  47463.631192  52086.533525  52733.473689   \n",
       "China       3800.474542   4514.940520   5574.187093   6264.643878   \n",
       "\n",
       "                   2013          2014  \n",
       "Country                                \n",
       "Argentina  14443.065651  12509.531118  \n",
       "Australia  67627.773335  61925.496062  \n",
       "Brazil     11711.004405  11384.415010  \n",
       "Canada     52305.258394  50235.385509  \n",
       "China       6991.853866   7590.016441  "
      ]
     },
     "execution_count": 122,
     "metadata": {},
     "output_type": "execute_result"
    }
   ],
   "source": [
    "Percap_GDP = data[data['Series Name']==\"GDP per capita (current US$)\"]\n",
    "del Percap_GDP['Series Name']\n",
    "PG = Percap_GDP.set_index('Country')\n",
    "PG.head()"
   ]
  },
  {
   "cell_type": "code",
   "execution_count": 123,
   "metadata": {
    "collapsed": false
   },
   "outputs": [
    {
     "data": {
      "text/plain": [
       "(2005    float64\n",
       " 2006    float64\n",
       " 2007    float64\n",
       " 2008    float64\n",
       " 2009    float64\n",
       " 2010    float64\n",
       " 2011    float64\n",
       " 2012    float64\n",
       " 2013    float64\n",
       " 2014    float64\n",
       " dtype: object, 2005    float64\n",
       " 2006    float64\n",
       " 2007    float64\n",
       " 2008    float64\n",
       " 2009    float64\n",
       " 2010    float64\n",
       " 2011    float64\n",
       " 2012    float64\n",
       " 2013    float64\n",
       " 2014    float64\n",
       " dtype: object, 2005    float64\n",
       " 2006    float64\n",
       " 2007    float64\n",
       " 2008    float64\n",
       " 2009    float64\n",
       " 2010    float64\n",
       " 2011    float64\n",
       " 2012    float64\n",
       " 2013    float64\n",
       " 2014    float64\n",
       " dtype: object, 2005    float64\n",
       " 2006    float64\n",
       " 2007    float64\n",
       " 2008    float64\n",
       " 2009    float64\n",
       " 2010    float64\n",
       " 2011    float64\n",
       " 2012    float64\n",
       " 2013    float64\n",
       " 2014    float64\n",
       " dtype: object)"
      ]
     },
     "execution_count": 123,
     "metadata": {},
     "output_type": "execute_result"
    }
   ],
   "source": [
    "G.dtypes, Mp.dtypes, PG.dtypes, P.dtypes"
   ]
  },
  {
   "cell_type": "code",
   "execution_count": 124,
   "metadata": {
    "collapsed": false
   },
   "outputs": [],
   "source": [
    "Total_Military = pd.DataFrame(Mp.values * G.values/100,columns=G.columns,index=G.index)"
   ]
  },
  {
   "cell_type": "code",
   "execution_count": 125,
   "metadata": {
    "collapsed": false
   },
   "outputs": [
    {
     "data": {
      "text/html": [
       "<div>\n",
       "<table border=\"1\" class=\"dataframe\">\n",
       "  <thead>\n",
       "    <tr style=\"text-align: right;\">\n",
       "      <th></th>\n",
       "      <th>2005</th>\n",
       "      <th>2006</th>\n",
       "      <th>2007</th>\n",
       "      <th>2008</th>\n",
       "      <th>2009</th>\n",
       "      <th>2010</th>\n",
       "      <th>2011</th>\n",
       "      <th>2012</th>\n",
       "      <th>2013</th>\n",
       "      <th>2014</th>\n",
       "    </tr>\n",
       "    <tr>\n",
       "      <th>Country</th>\n",
       "      <th></th>\n",
       "      <th></th>\n",
       "      <th></th>\n",
       "      <th></th>\n",
       "      <th></th>\n",
       "      <th></th>\n",
       "      <th></th>\n",
       "      <th></th>\n",
       "      <th></th>\n",
       "      <th></th>\n",
       "    </tr>\n",
       "  </thead>\n",
       "  <tbody>\n",
       "    <tr>\n",
       "      <th>Argentina</th>\n",
       "      <td>1.683592e+09</td>\n",
       "      <td>1.833095e+09</td>\n",
       "      <td>2.278818e+09</td>\n",
       "      <td>2.757807e+09</td>\n",
       "      <td>2.951865e+09</td>\n",
       "      <td>3.452047e+09</td>\n",
       "      <td>4.018628e+09</td>\n",
       "      <td>4.524356e+09</td>\n",
       "      <td>5.059341e+09</td>\n",
       "      <td>4.264524e+09</td>\n",
       "    </tr>\n",
       "    <tr>\n",
       "      <th>Australia</th>\n",
       "      <td>1.303150e+10</td>\n",
       "      <td>1.415843e+10</td>\n",
       "      <td>1.612546e+10</td>\n",
       "      <td>1.988720e+10</td>\n",
       "      <td>1.789906e+10</td>\n",
       "      <td>2.229455e+10</td>\n",
       "      <td>2.542147e+10</td>\n",
       "      <td>2.610848e+10</td>\n",
       "      <td>2.638248e+10</td>\n",
       "      <td>2.589415e+10</td>\n",
       "    </tr>\n",
       "    <tr>\n",
       "      <th>Brazil</th>\n",
       "      <td>1.358856e+10</td>\n",
       "      <td>1.640509e+10</td>\n",
       "      <td>2.048534e+10</td>\n",
       "      <td>2.445250e+10</td>\n",
       "      <td>2.564919e+10</td>\n",
       "      <td>3.400352e+10</td>\n",
       "      <td>3.693687e+10</td>\n",
       "      <td>3.398648e+10</td>\n",
       "      <td>3.295766e+10</td>\n",
       "      <td>3.153612e+10</td>\n",
       "    </tr>\n",
       "    <tr>\n",
       "      <th>Canada</th>\n",
       "      <td>1.298770e+10</td>\n",
       "      <td>1.480937e+10</td>\n",
       "      <td>1.741714e+10</td>\n",
       "      <td>1.934278e+10</td>\n",
       "      <td>1.893623e+10</td>\n",
       "      <td>1.931494e+10</td>\n",
       "      <td>2.048408e+10</td>\n",
       "      <td>2.037529e+10</td>\n",
       "      <td>1.846360e+10</td>\n",
       "      <td>1.745020e+10</td>\n",
       "    </tr>\n",
       "    <tr>\n",
       "      <th>China</th>\n",
       "      <td>4.628827e+10</td>\n",
       "      <td>5.666340e+10</td>\n",
       "      <td>7.174499e+10</td>\n",
       "      <td>9.165744e+10</td>\n",
       "      <td>1.117780e+11</td>\n",
       "      <td>1.233328e+11</td>\n",
       "      <td>1.472568e+11</td>\n",
       "      <td>1.696054e+11</td>\n",
       "      <td>1.912263e+11</td>\n",
       "      <td>2.164274e+11</td>\n",
       "    </tr>\n",
       "  </tbody>\n",
       "</table>\n",
       "</div>"
      ],
      "text/plain": [
       "                   2005          2006          2007          2008  \\\n",
       "Country                                                             \n",
       "Argentina  1.683592e+09  1.833095e+09  2.278818e+09  2.757807e+09   \n",
       "Australia  1.303150e+10  1.415843e+10  1.612546e+10  1.988720e+10   \n",
       "Brazil     1.358856e+10  1.640509e+10  2.048534e+10  2.445250e+10   \n",
       "Canada     1.298770e+10  1.480937e+10  1.741714e+10  1.934278e+10   \n",
       "China      4.628827e+10  5.666340e+10  7.174499e+10  9.165744e+10   \n",
       "\n",
       "                   2009          2010          2011          2012  \\\n",
       "Country                                                             \n",
       "Argentina  2.951865e+09  3.452047e+09  4.018628e+09  4.524356e+09   \n",
       "Australia  1.789906e+10  2.229455e+10  2.542147e+10  2.610848e+10   \n",
       "Brazil     2.564919e+10  3.400352e+10  3.693687e+10  3.398648e+10   \n",
       "Canada     1.893623e+10  1.931494e+10  2.048408e+10  2.037529e+10   \n",
       "China      1.117780e+11  1.233328e+11  1.472568e+11  1.696054e+11   \n",
       "\n",
       "                   2013          2014  \n",
       "Country                                \n",
       "Argentina  5.059341e+09  4.264524e+09  \n",
       "Australia  2.638248e+10  2.589415e+10  \n",
       "Brazil     3.295766e+10  3.153612e+10  \n",
       "Canada     1.846360e+10  1.745020e+10  \n",
       "China      1.912263e+11  2.164274e+11  "
      ]
     },
     "execution_count": 125,
     "metadata": {},
     "output_type": "execute_result"
    }
   ],
   "source": [
    "Total_Military.head()"
   ]
  },
  {
   "cell_type": "code",
   "execution_count": 126,
   "metadata": {
    "collapsed": false,
    "scrolled": true
   },
   "outputs": [
    {
     "data": {
      "text/html": [
       "<div>\n",
       "<table border=\"1\" class=\"dataframe\">\n",
       "  <thead>\n",
       "    <tr style=\"text-align: right;\">\n",
       "      <th></th>\n",
       "      <th>2005</th>\n",
       "      <th>2006</th>\n",
       "      <th>2007</th>\n",
       "      <th>2008</th>\n",
       "      <th>2009</th>\n",
       "      <th>2010</th>\n",
       "      <th>2011</th>\n",
       "      <th>2012</th>\n",
       "      <th>2013</th>\n",
       "      <th>2014</th>\n",
       "    </tr>\n",
       "    <tr>\n",
       "      <th>Country</th>\n",
       "      <th></th>\n",
       "      <th></th>\n",
       "      <th></th>\n",
       "      <th></th>\n",
       "      <th></th>\n",
       "      <th></th>\n",
       "      <th></th>\n",
       "      <th></th>\n",
       "      <th></th>\n",
       "      <th></th>\n",
       "    </tr>\n",
       "  </thead>\n",
       "  <tbody>\n",
       "    <tr>\n",
       "      <th>Argentina</th>\n",
       "      <td>43.008572</td>\n",
       "      <td>46.338550</td>\n",
       "      <td>57.013343</td>\n",
       "      <td>68.293222</td>\n",
       "      <td>72.352045</td>\n",
       "      <td>83.741057</td>\n",
       "      <td>96.472669</td>\n",
       "      <td>107.479078</td>\n",
       "      <td>118.936131</td>\n",
       "      <td>99.221058</td>\n",
       "    </tr>\n",
       "    <tr>\n",
       "      <th>Australia</th>\n",
       "      <td>638.961844</td>\n",
       "      <td>684.051554</td>\n",
       "      <td>774.235210</td>\n",
       "      <td>935.903368</td>\n",
       "      <td>825.156976</td>\n",
       "      <td>1011.928135</td>\n",
       "      <td>1137.934003</td>\n",
       "      <td>1148.723346</td>\n",
       "      <td>1140.821035</td>\n",
       "      <td>1102.313363</td>\n",
       "    </tr>\n",
       "    <tr>\n",
       "      <th>Brazil</th>\n",
       "      <td>72.095812</td>\n",
       "      <td>86.026454</td>\n",
       "      <td>106.260280</td>\n",
       "      <td>125.545727</td>\n",
       "      <td>130.396673</td>\n",
       "      <td>171.203887</td>\n",
       "      <td>184.207647</td>\n",
       "      <td>167.916092</td>\n",
       "      <td>161.351981</td>\n",
       "      <td>153.030088</td>\n",
       "    </tr>\n",
       "    <tr>\n",
       "      <th>Canada</th>\n",
       "      <td>401.946776</td>\n",
       "      <td>454.686551</td>\n",
       "      <td>529.590673</td>\n",
       "      <td>581.811814</td>\n",
       "      <td>563.099338</td>\n",
       "      <td>567.998330</td>\n",
       "      <td>596.459660</td>\n",
       "      <td>586.266488</td>\n",
       "      <td>525.156108</td>\n",
       "      <td>490.995836</td>\n",
       "    </tr>\n",
       "    <tr>\n",
       "      <th>China</th>\n",
       "      <td>35.504765</td>\n",
       "      <td>43.220854</td>\n",
       "      <td>54.439490</td>\n",
       "      <td>69.193440</td>\n",
       "      <td>83.964036</td>\n",
       "      <td>92.197302</td>\n",
       "      <td>109.555496</td>\n",
       "      <td>125.568963</td>\n",
       "      <td>140.878989</td>\n",
       "      <td>158.639699</td>\n",
       "    </tr>\n",
       "    <tr>\n",
       "      <th>European Union</th>\n",
       "      <td>501.961697</td>\n",
       "      <td>519.778625</td>\n",
       "      <td>585.293341</td>\n",
       "      <td>635.482118</td>\n",
       "      <td>596.321520</td>\n",
       "      <td>566.254488</td>\n",
       "      <td>585.035464</td>\n",
       "      <td>549.409777</td>\n",
       "      <td>552.669575</td>\n",
       "      <td>549.148955</td>\n",
       "    </tr>\n",
       "    <tr>\n",
       "      <th>France</th>\n",
       "      <td>837.458454</td>\n",
       "      <td>856.927095</td>\n",
       "      <td>946.605876</td>\n",
       "      <td>1025.352096</td>\n",
       "      <td>1033.705456</td>\n",
       "      <td>950.142925</td>\n",
       "      <td>988.584971</td>\n",
       "      <td>914.613154</td>\n",
       "      <td>946.782140</td>\n",
       "      <td>940.780201</td>\n",
       "    </tr>\n",
       "    <tr>\n",
       "      <th>Germany</th>\n",
       "      <td>461.443373</td>\n",
       "      <td>462.442136</td>\n",
       "      <td>517.271689</td>\n",
       "      <td>585.551417</td>\n",
       "      <td>579.628473</td>\n",
       "      <td>565.664157</td>\n",
       "      <td>588.492740</td>\n",
       "      <td>577.810621</td>\n",
       "      <td>591.070203</td>\n",
       "      <td>574.276335</td>\n",
       "    </tr>\n",
       "    <tr>\n",
       "      <th>Indonesia</th>\n",
       "      <td>9.486081</td>\n",
       "      <td>11.392440</td>\n",
       "      <td>14.415859</td>\n",
       "      <td>13.732966</td>\n",
       "      <td>13.857149</td>\n",
       "      <td>19.300955</td>\n",
       "      <td>23.847333</td>\n",
       "      <td>31.326676</td>\n",
       "      <td>33.287964</td>\n",
       "      <td>27.590458</td>\n",
       "    </tr>\n",
       "    <tr>\n",
       "      <th>India</th>\n",
       "      <td>20.083297</td>\n",
       "      <td>20.637300</td>\n",
       "      <td>24.598238</td>\n",
       "      <td>26.077708</td>\n",
       "      <td>32.537938</td>\n",
       "      <td>37.576382</td>\n",
       "      <td>38.598240</td>\n",
       "      <td>36.619041</td>\n",
       "      <td>35.626421</td>\n",
       "      <td>38.465848</td>\n",
       "    </tr>\n",
       "    <tr>\n",
       "      <th>Italy</th>\n",
       "      <td>578.354717</td>\n",
       "      <td>574.605683</td>\n",
       "      <td>615.411219</td>\n",
       "      <td>701.077999</td>\n",
       "      <td>648.167508</td>\n",
       "      <td>607.894860</td>\n",
       "      <td>642.101046</td>\n",
       "      <td>566.559146</td>\n",
       "      <td>562.671166</td>\n",
       "      <td>503.902997</td>\n",
       "    </tr>\n",
       "    <tr>\n",
       "      <th>Japan</th>\n",
       "      <td>349.753710</td>\n",
       "      <td>329.903892</td>\n",
       "      <td>323.947839</td>\n",
       "      <td>365.090086</td>\n",
       "      <td>401.913522</td>\n",
       "      <td>420.055304</td>\n",
       "      <td>472.959557</td>\n",
       "      <td>470.437294</td>\n",
       "      <td>382.667439</td>\n",
       "      <td>360.239629</td>\n",
       "    </tr>\n",
       "    <tr>\n",
       "      <th>Korea, Rep.</th>\n",
       "      <td>460.333801</td>\n",
       "      <td>520.492827</td>\n",
       "      <td>570.523856</td>\n",
       "      <td>532.649269</td>\n",
       "      <td>496.289771</td>\n",
       "      <td>558.039572</td>\n",
       "      <td>620.425968</td>\n",
       "      <td>633.160354</td>\n",
       "      <td>675.825227</td>\n",
       "      <td>727.477193</td>\n",
       "    </tr>\n",
       "    <tr>\n",
       "      <th>Mexico</th>\n",
       "      <td>32.998590</td>\n",
       "      <td>36.652871</td>\n",
       "      <td>42.247323</td>\n",
       "      <td>42.963771</td>\n",
       "      <td>41.565633</td>\n",
       "      <td>49.716074</td>\n",
       "      <td>53.764582</td>\n",
       "      <td>57.169834</td>\n",
       "      <td>63.339313</td>\n",
       "      <td>69.093784</td>\n",
       "    </tr>\n",
       "    <tr>\n",
       "      <th>Russian Federation</th>\n",
       "      <td>190.477002</td>\n",
       "      <td>241.299514</td>\n",
       "      <td>304.856059</td>\n",
       "      <td>393.602765</td>\n",
       "      <td>360.906217</td>\n",
       "      <td>411.063723</td>\n",
       "      <td>491.305940</td>\n",
       "      <td>566.189733</td>\n",
       "      <td>612.032301</td>\n",
       "      <td>588.282220</td>\n",
       "    </tr>\n",
       "    <tr>\n",
       "      <th>Saudi Arabia</th>\n",
       "      <td>1026.133242</td>\n",
       "      <td>1163.670902</td>\n",
       "      <td>1359.843698</td>\n",
       "      <td>1429.277163</td>\n",
       "      <td>1505.580676</td>\n",
       "      <td>1610.661845</td>\n",
       "      <td>1685.778622</td>\n",
       "      <td>1915.438590</td>\n",
       "      <td>2219.128069</td>\n",
       "      <td>2614.808487</td>\n",
       "    </tr>\n",
       "    <tr>\n",
       "      <th>South Africa</th>\n",
       "      <td>75.333455</td>\n",
       "      <td>73.057750</td>\n",
       "      <td>72.460387</td>\n",
       "      <td>66.592045</td>\n",
       "      <td>71.773542</td>\n",
       "      <td>82.457776</td>\n",
       "      <td>89.114705</td>\n",
       "      <td>85.774325</td>\n",
       "      <td>77.818174</td>\n",
       "      <td>72.210712</td>\n",
       "    </tr>\n",
       "    <tr>\n",
       "      <th>Turkey</th>\n",
       "      <td>178.026328</td>\n",
       "      <td>191.013892</td>\n",
       "      <td>217.109677</td>\n",
       "      <td>240.450412</td>\n",
       "      <td>226.635228</td>\n",
       "      <td>245.463035</td>\n",
       "      <td>234.012284</td>\n",
       "      <td>240.355097</td>\n",
       "      <td>245.713679</td>\n",
       "      <td>231.107686</td>\n",
       "    </tr>\n",
       "    <tr>\n",
       "      <th>United States</th>\n",
       "      <td>1703.298568</td>\n",
       "      <td>1768.416635</td>\n",
       "      <td>1848.948539</td>\n",
       "      <td>2042.562725</td>\n",
       "      <td>2179.364565</td>\n",
       "      <td>2256.947284</td>\n",
       "      <td>2281.965468</td>\n",
       "      <td>2180.049887</td>\n",
       "      <td>2021.197315</td>\n",
       "      <td>1912.812241</td>\n",
       "    </tr>\n",
       "    <tr>\n",
       "      <th>United Kingdom</th>\n",
       "      <td>913.083816</td>\n",
       "      <td>944.693589</td>\n",
       "      <td>1075.990587</td>\n",
       "      <td>1061.616881</td>\n",
       "      <td>929.990542</td>\n",
       "      <td>925.351725</td>\n",
       "      <td>952.820520</td>\n",
       "      <td>918.294855</td>\n",
       "      <td>886.979617</td>\n",
       "      <td>936.898989</td>\n",
       "    </tr>\n",
       "  </tbody>\n",
       "</table>\n",
       "</div>"
      ],
      "text/plain": [
       "                           2005         2006         2007         2008  \\\n",
       "Country                                                                  \n",
       "Argentina             43.008572    46.338550    57.013343    68.293222   \n",
       "Australia            638.961844   684.051554   774.235210   935.903368   \n",
       "Brazil                72.095812    86.026454   106.260280   125.545727   \n",
       "Canada               401.946776   454.686551   529.590673   581.811814   \n",
       "China                 35.504765    43.220854    54.439490    69.193440   \n",
       "European Union       501.961697   519.778625   585.293341   635.482118   \n",
       "France               837.458454   856.927095   946.605876  1025.352096   \n",
       "Germany              461.443373   462.442136   517.271689   585.551417   \n",
       "Indonesia              9.486081    11.392440    14.415859    13.732966   \n",
       "India                 20.083297    20.637300    24.598238    26.077708   \n",
       "Italy                578.354717   574.605683   615.411219   701.077999   \n",
       "Japan                349.753710   329.903892   323.947839   365.090086   \n",
       "Korea, Rep.          460.333801   520.492827   570.523856   532.649269   \n",
       "Mexico                32.998590    36.652871    42.247323    42.963771   \n",
       "Russian Federation   190.477002   241.299514   304.856059   393.602765   \n",
       "Saudi Arabia        1026.133242  1163.670902  1359.843698  1429.277163   \n",
       "South Africa          75.333455    73.057750    72.460387    66.592045   \n",
       "Turkey               178.026328   191.013892   217.109677   240.450412   \n",
       "United States       1703.298568  1768.416635  1848.948539  2042.562725   \n",
       "United Kingdom       913.083816   944.693589  1075.990587  1061.616881   \n",
       "\n",
       "                           2009         2010         2011         2012  \\\n",
       "Country                                                                  \n",
       "Argentina             72.352045    83.741057    96.472669   107.479078   \n",
       "Australia            825.156976  1011.928135  1137.934003  1148.723346   \n",
       "Brazil               130.396673   171.203887   184.207647   167.916092   \n",
       "Canada               563.099338   567.998330   596.459660   586.266488   \n",
       "China                 83.964036    92.197302   109.555496   125.568963   \n",
       "European Union       596.321520   566.254488   585.035464   549.409777   \n",
       "France              1033.705456   950.142925   988.584971   914.613154   \n",
       "Germany              579.628473   565.664157   588.492740   577.810621   \n",
       "Indonesia             13.857149    19.300955    23.847333    31.326676   \n",
       "India                 32.537938    37.576382    38.598240    36.619041   \n",
       "Italy                648.167508   607.894860   642.101046   566.559146   \n",
       "Japan                401.913522   420.055304   472.959557   470.437294   \n",
       "Korea, Rep.          496.289771   558.039572   620.425968   633.160354   \n",
       "Mexico                41.565633    49.716074    53.764582    57.169834   \n",
       "Russian Federation   360.906217   411.063723   491.305940   566.189733   \n",
       "Saudi Arabia        1505.580676  1610.661845  1685.778622  1915.438590   \n",
       "South Africa          71.773542    82.457776    89.114705    85.774325   \n",
       "Turkey               226.635228   245.463035   234.012284   240.355097   \n",
       "United States       2179.364565  2256.947284  2281.965468  2180.049887   \n",
       "United Kingdom       929.990542   925.351725   952.820520   918.294855   \n",
       "\n",
       "                           2013         2014  \n",
       "Country                                       \n",
       "Argentina            118.936131    99.221058  \n",
       "Australia           1140.821035  1102.313363  \n",
       "Brazil               161.351981   153.030088  \n",
       "Canada               525.156108   490.995836  \n",
       "China                140.878989   158.639699  \n",
       "European Union       552.669575   549.148955  \n",
       "France               946.782140   940.780201  \n",
       "Germany              591.070203   574.276335  \n",
       "Indonesia             33.287964    27.590458  \n",
       "India                 35.626421    38.465848  \n",
       "Italy                562.671166   503.902997  \n",
       "Japan                382.667439   360.239629  \n",
       "Korea, Rep.          675.825227   727.477193  \n",
       "Mexico                63.339313    69.093784  \n",
       "Russian Federation   612.032301   588.282220  \n",
       "Saudi Arabia        2219.128069  2614.808487  \n",
       "South Africa          77.818174    72.210712  \n",
       "Turkey               245.713679   231.107686  \n",
       "United States       2021.197315  1912.812241  \n",
       "United Kingdom       886.979617   936.898989  "
      ]
     },
     "execution_count": 126,
     "metadata": {},
     "output_type": "execute_result"
    }
   ],
   "source": [
    "Per_Military = pd.DataFrame(Total_Military.values / P.values, columns=P.columns,index=P.index)\n",
    "Per_Military"
   ]
  },
  {
   "cell_type": "code",
   "execution_count": 127,
   "metadata": {
    "collapsed": false
   },
   "outputs": [
    {
     "name": "stderr",
     "output_type": "stream",
     "text": [
      "C:\\Anaconda\\lib\\site-packages\\ipykernel\\__main__.py:2: FutureWarning:\n",
      "\n",
      "sort(columns=....) is deprecated, use sort_values(by=.....)\n",
      "\n"
     ]
    },
    {
     "data": {
      "text/plain": [
       "<matplotlib.axes._subplots.AxesSubplot at 0x10db66b0>"
      ]
     },
     "execution_count": 127,
     "metadata": {},
     "output_type": "execute_result"
    },
    {
     "data": {
      "image/png": "[encoded data removed]",
      "text/plain": [
       "<matplotlib.figure.Figure at 0x10db6730>"
      ]
     },
     "metadata": {},
     "output_type": "display_data"
    }
   ],
   "source": [
    "Total_Military2005 = Total_Military[['2005']]\n",
    "Total_Military2005 = Total_Military2005.sort('2005',ascending=False)\n",
    "Total_Military2005.plot.bar()"
   ]
  },
  {
   "cell_type": "code",
   "execution_count": 128,
   "metadata": {
    "collapsed": false
   },
   "outputs": [
    {
     "name": "stderr",
     "output_type": "stream",
     "text": [
      "C:\\Anaconda\\lib\\site-packages\\ipykernel\\__main__.py:2: FutureWarning:\n",
      "\n",
      "sort(columns=....) is deprecated, use sort_values(by=.....)\n",
      "\n"
     ]
    },
    {
     "data": {
      "text/plain": [
       "<matplotlib.axes._subplots.AxesSubplot at 0x1100f5f0>"
      ]
     },
     "execution_count": 128,
     "metadata": {},
     "output_type": "execute_result"
    },
    {
     "data": {
      "image/png": "[encoded data removed]",
      "text/plain": [
       "<matplotlib.figure.Figure at 0x1101a0f0>"
      ]
     },
     "metadata": {},
     "output_type": "display_data"
    }
   ],
   "source": [
    "Total_Military2006 = Total_Military[['2006']]\n",
    "Total_Military2006 = Total_Military2006.sort('2006',ascending=False)\n",
    "Total_Military2006.plot.bar()"
   ]
  },
  {
   "cell_type": "code",
   "execution_count": 129,
   "metadata": {
    "collapsed": false
   },
   "outputs": [
    {
     "name": "stderr",
     "output_type": "stream",
     "text": [
      "C:\\Anaconda\\lib\\site-packages\\ipykernel\\__main__.py:2: FutureWarning:\n",
      "\n",
      "sort(columns=....) is deprecated, use sort_values(by=.....)\n",
      "\n"
     ]
    },
    {
     "data": {
      "text/plain": [
       "<matplotlib.axes._subplots.AxesSubplot at 0x10cee810>"
      ]
     },
     "execution_count": 129,
     "metadata": {},
     "output_type": "execute_result"
    },
    {
     "data": {
      "image/png": "[encoded data removed]",
      "text/plain": [
       "<matplotlib.figure.Figure at 0x11153a90>"
      ]
     },
     "metadata": {},
     "output_type": "display_data"
    }
   ],
   "source": [
    "Total_Military2007 = Total_Military[['2007']]\n",
    "Total_Military2007 = Total_Military2007.sort('2007',ascending=False)\n",
    "Total_Military2007.plot.bar()"
   ]
  },
  {
   "cell_type": "code",
   "execution_count": 130,
   "metadata": {
    "collapsed": false
   },
   "outputs": [
    {
     "name": "stderr",
     "output_type": "stream",
     "text": [
      "C:\\Anaconda\\lib\\site-packages\\ipykernel\\__main__.py:2: FutureWarning:\n",
      "\n",
      "sort(columns=....) is deprecated, use sort_values(by=.....)\n",
      "\n"
     ]
    },
    {
     "data": {
      "text/plain": [
       "<matplotlib.axes._subplots.AxesSubplot at 0x111bbe90>"
      ]
     },
     "execution_count": 130,
     "metadata": {},
     "output_type": "execute_result"
    },
    {
     "data": {
      "image/png": "[encoded data removed]",
      "text/plain": [
       "<matplotlib.figure.Figure at 0xdcfdf30>"
      ]
     },
     "metadata": {},
     "output_type": "display_data"
    }
   ],
   "source": [
    "Total_Military2008 = Total_Military[['2008']]\n",
    "Total_Military2008 = Total_Military2008.sort('2008',ascending=False)\n",
    "Total_Military2008.plot.bar()"
   ]
  },
  {
   "cell_type": "code",
   "execution_count": 131,
   "metadata": {
    "collapsed": false
   },
   "outputs": [
    {
     "name": "stderr",
     "output_type": "stream",
     "text": [
      "C:\\Anaconda\\lib\\site-packages\\ipykernel\\__main__.py:2: FutureWarning:\n",
      "\n",
      "sort(columns=....) is deprecated, use sort_values(by=.....)\n",
      "\n"
     ]
    },
    {
     "data": {
      "text/plain": [
       "<matplotlib.axes._subplots.AxesSubplot at 0x11146cf0>"
      ]
     },
     "execution_count": 131,
     "metadata": {},
     "output_type": "execute_result"
    },
    {
     "data": {
      "image/png": "[encoded data removed]",
      "text/plain": [
       "<matplotlib.figure.Figure at 0x11359b70>"
      ]
     },
     "metadata": {},
     "output_type": "display_data"
    }
   ],
   "source": [
    "Total_Military2009 = Total_Military[['2009']]\n",
    "Total_Military2009 = Total_Military2009.sort('2009',ascending=False)\n",
    "Total_Military2009.plot.bar()"
   ]
  },
  {
   "cell_type": "code",
   "execution_count": 132,
   "metadata": {
    "collapsed": false
   },
   "outputs": [
    {
     "name": "stderr",
     "output_type": "stream",
     "text": [
      "C:\\Anaconda\\lib\\site-packages\\ipykernel\\__main__.py:2: FutureWarning:\n",
      "\n",
      "sort(columns=....) is deprecated, use sort_values(by=.....)\n",
      "\n"
     ]
    },
    {
     "data": {
      "text/plain": [
       "<matplotlib.axes._subplots.AxesSubplot at 0x114c2cd0>"
      ]
     },
     "execution_count": 132,
     "metadata": {},
     "output_type": "execute_result"
    },
    {
     "data": {
      "image/png": "[encoded data removed]",
      "text/plain": [
       "<matplotlib.figure.Figure at 0x11554e10>"
      ]
     },
     "metadata": {},
     "output_type": "display_data"
    }
   ],
   "source": [
    "Total_Military2010 = Total_Military[['2010']]\n",
    "Total_Military2010 = Total_Military2010.sort('2010',ascending=False)\n",
    "Total_Military2010.plot.bar()"
   ]
  },
  {
   "cell_type": "code",
   "execution_count": 133,
   "metadata": {
    "collapsed": false
   },
   "outputs": [
    {
     "name": "stderr",
     "output_type": "stream",
     "text": [
      "C:\\Anaconda\\lib\\site-packages\\ipykernel\\__main__.py:2: FutureWarning:\n",
      "\n",
      "sort(columns=....) is deprecated, use sort_values(by=.....)\n",
      "\n"
     ]
    },
    {
     "data": {
      "text/plain": [
       "<matplotlib.axes._subplots.AxesSubplot at 0x116d9fb0>"
      ]
     },
     "execution_count": 133,
     "metadata": {},
     "output_type": "execute_result"
    },
    {
     "data": {
      "image/png": "[encoded data removed]",
      "text/plain": [
       "<matplotlib.figure.Figure at 0x1165e250>"
      ]
     },
     "metadata": {},
     "output_type": "display_data"
    }
   ],
   "source": [
    "Total_Military2011 = Total_Military[['2011']]\n",
    "Total_Military2011 = Total_Military2011.sort('2011',ascending=False)\n",
    "Total_Military2011.plot.bar()"
   ]
  },
  {
   "cell_type": "code",
   "execution_count": 134,
   "metadata": {
    "collapsed": false
   },
   "outputs": [
    {
     "name": "stderr",
     "output_type": "stream",
     "text": [
      "C:\\Anaconda\\lib\\site-packages\\ipykernel\\__main__.py:2: FutureWarning:\n",
      "\n",
      "sort(columns=....) is deprecated, use sort_values(by=.....)\n",
      "\n"
     ]
    },
    {
     "data": {
      "text/plain": [
       "<matplotlib.axes._subplots.AxesSubplot at 0x118e6430>"
      ]
     },
     "execution_count": 134,
     "metadata": {},
     "output_type": "execute_result"
    },
    {
     "data": {
      "image/png": "[encoded data removed]",
      "text/plain": [
       "<matplotlib.figure.Figure at 0x117d69d0>"
      ]
     },
     "metadata": {},
     "output_type": "display_data"
    }
   ],
   "source": [
    "Total_Military2012 = Total_Military[['2012']]\n",
    "Total_Military2012 = Total_Military2012.sort('2012',ascending=False)\n",
    "Total_Military2012.plot.bar()"
   ]
  },
  {
   "cell_type": "code",
   "execution_count": 135,
   "metadata": {
    "collapsed": false,
    "scrolled": true
   },
   "outputs": [
    {
     "name": "stderr",
     "output_type": "stream",
     "text": [
      "C:\\Anaconda\\lib\\site-packages\\ipykernel\\__main__.py:2: FutureWarning:\n",
      "\n",
      "sort(columns=....) is deprecated, use sort_values(by=.....)\n",
      "\n"
     ]
    },
    {
     "data": {
      "text/plain": [
       "<matplotlib.axes._subplots.AxesSubplot at 0x11a56a10>"
      ]
     },
     "execution_count": 135,
     "metadata": {},
     "output_type": "execute_result"
    },
    {
     "data": {
      "image/png": "[encoded data removed]",
      "text/plain": [
       "<matplotlib.figure.Figure at 0x11a674d0>"
      ]
     },
     "metadata": {},
     "output_type": "display_data"
    }
   ],
   "source": [
    "Total_Military2013 = Total_Military[['2013']]\n",
    "Total_Military2013 = Total_Military2013.sort('2013',ascending=False)\n",
    "Total_Military2013.plot.bar()"
   ]
  },
  {
   "cell_type": "code",
   "execution_count": 136,
   "metadata": {
    "collapsed": false
   },
   "outputs": [
    {
     "name": "stderr",
     "output_type": "stream",
     "text": [
      "C:\\Anaconda\\lib\\site-packages\\ipykernel\\__main__.py:2: FutureWarning:\n",
      "\n",
      "sort(columns=....) is deprecated, use sort_values(by=.....)\n",
      "\n"
     ]
    },
    {
     "data": {
      "text/plain": [
       "<matplotlib.axes._subplots.AxesSubplot at 0x11bc1f50>"
      ]
     },
     "execution_count": 136,
     "metadata": {},
     "output_type": "execute_result"
    },
    {
     "data": {
      "image/png": "[encoded data removed]",
      "text/plain": [
       "<matplotlib.figure.Figure at 0x11b53a30>"
      ]
     },
     "metadata": {},
     "output_type": "display_data"
    }
   ],
   "source": [
    "Total_Military2014 = Total_Military[['2014']]\n",
    "Total_Military2014 = Total_Military2014.sort('2014',ascending=False)\n",
    "Total_Military2014.plot.bar()"
   ]
  },
  {
   "cell_type": "code",
   "execution_count": 137,
   "metadata": {
    "collapsed": false
   },
   "outputs": [
    {
     "data": {
      "text/html": [
       "<iframe id=\"igraph\" scrolling=\"no\" style=\"border:none;\" seamless=\"seamless\" src=\"https://plot.ly/~Weihua/11.embed\" height=\"587px\" width=\"1116px\"></iframe>"
      ],
      "text/plain": [
       "<plotly.tools.PlotlyDisplay object>"
      ]
     },
     "execution_count": 137,
     "metadata": {},
     "output_type": "execute_result"
    }
   ],
   "source": [
    "Mp = Mp.T\n",
    "Mp.iplot(kind='scatter', filename='cufflinks/cf-simple-line')\n"
   ]
  },
  {
   "cell_type": "code",
   "execution_count": 138,
   "metadata": {
    "collapsed": false
   },
   "outputs": [
    {
     "data": {
      "text/html": [
       "<div>\n",
       "<table border=\"1\" class=\"dataframe\">\n",
       "  <thead>\n",
       "    <tr style=\"text-align: right;\">\n",
       "      <th></th>\n",
       "      <th>2005</th>\n",
       "      <th>2006</th>\n",
       "      <th>2007</th>\n",
       "      <th>2008</th>\n",
       "      <th>2009</th>\n",
       "      <th>2010</th>\n",
       "      <th>2011</th>\n",
       "      <th>2012</th>\n",
       "      <th>2013</th>\n",
       "      <th>2014</th>\n",
       "    </tr>\n",
       "    <tr>\n",
       "      <th>Country</th>\n",
       "      <th></th>\n",
       "      <th></th>\n",
       "      <th></th>\n",
       "      <th></th>\n",
       "      <th></th>\n",
       "      <th></th>\n",
       "      <th></th>\n",
       "      <th></th>\n",
       "      <th></th>\n",
       "      <th></th>\n",
       "    </tr>\n",
       "  </thead>\n",
       "  <tbody>\n",
       "    <tr>\n",
       "      <th>Argentina</th>\n",
       "      <td>1.683592e+09</td>\n",
       "      <td>1.833095e+09</td>\n",
       "      <td>2.278818e+09</td>\n",
       "      <td>2.757807e+09</td>\n",
       "      <td>2.951865e+09</td>\n",
       "      <td>3.452047e+09</td>\n",
       "      <td>4.018628e+09</td>\n",
       "      <td>4.524356e+09</td>\n",
       "      <td>5.059341e+09</td>\n",
       "      <td>4.264524e+09</td>\n",
       "    </tr>\n",
       "    <tr>\n",
       "      <th>Australia</th>\n",
       "      <td>1.303150e+10</td>\n",
       "      <td>1.415843e+10</td>\n",
       "      <td>1.612546e+10</td>\n",
       "      <td>1.988720e+10</td>\n",
       "      <td>1.789906e+10</td>\n",
       "      <td>2.229455e+10</td>\n",
       "      <td>2.542147e+10</td>\n",
       "      <td>2.610848e+10</td>\n",
       "      <td>2.638248e+10</td>\n",
       "      <td>2.589415e+10</td>\n",
       "    </tr>\n",
       "    <tr>\n",
       "      <th>Brazil</th>\n",
       "      <td>1.358856e+10</td>\n",
       "      <td>1.640509e+10</td>\n",
       "      <td>2.048534e+10</td>\n",
       "      <td>2.445250e+10</td>\n",
       "      <td>2.564919e+10</td>\n",
       "      <td>3.400352e+10</td>\n",
       "      <td>3.693687e+10</td>\n",
       "      <td>3.398648e+10</td>\n",
       "      <td>3.295766e+10</td>\n",
       "      <td>3.153612e+10</td>\n",
       "    </tr>\n",
       "    <tr>\n",
       "      <th>Canada</th>\n",
       "      <td>1.298770e+10</td>\n",
       "      <td>1.480937e+10</td>\n",
       "      <td>1.741714e+10</td>\n",
       "      <td>1.934278e+10</td>\n",
       "      <td>1.893623e+10</td>\n",
       "      <td>1.931494e+10</td>\n",
       "      <td>2.048408e+10</td>\n",
       "      <td>2.037529e+10</td>\n",
       "      <td>1.846360e+10</td>\n",
       "      <td>1.745020e+10</td>\n",
       "    </tr>\n",
       "    <tr>\n",
       "      <th>China</th>\n",
       "      <td>4.628827e+10</td>\n",
       "      <td>5.666340e+10</td>\n",
       "      <td>7.174499e+10</td>\n",
       "      <td>9.165744e+10</td>\n",
       "      <td>1.117780e+11</td>\n",
       "      <td>1.233328e+11</td>\n",
       "      <td>1.472568e+11</td>\n",
       "      <td>1.696054e+11</td>\n",
       "      <td>1.912263e+11</td>\n",
       "      <td>2.164274e+11</td>\n",
       "    </tr>\n",
       "  </tbody>\n",
       "</table>\n",
       "</div>"
      ],
      "text/plain": [
       "                   2005          2006          2007          2008  \\\n",
       "Country                                                             \n",
       "Argentina  1.683592e+09  1.833095e+09  2.278818e+09  2.757807e+09   \n",
       "Australia  1.303150e+10  1.415843e+10  1.612546e+10  1.988720e+10   \n",
       "Brazil     1.358856e+10  1.640509e+10  2.048534e+10  2.445250e+10   \n",
       "Canada     1.298770e+10  1.480937e+10  1.741714e+10  1.934278e+10   \n",
       "China      4.628827e+10  5.666340e+10  7.174499e+10  9.165744e+10   \n",
       "\n",
       "                   2009          2010          2011          2012  \\\n",
       "Country                                                             \n",
       "Argentina  2.951865e+09  3.452047e+09  4.018628e+09  4.524356e+09   \n",
       "Australia  1.789906e+10  2.229455e+10  2.542147e+10  2.610848e+10   \n",
       "Brazil     2.564919e+10  3.400352e+10  3.693687e+10  3.398648e+10   \n",
       "Canada     1.893623e+10  1.931494e+10  2.048408e+10  2.037529e+10   \n",
       "China      1.117780e+11  1.233328e+11  1.472568e+11  1.696054e+11   \n",
       "\n",
       "                   2013          2014  \n",
       "Country                                \n",
       "Argentina  5.059341e+09  4.264524e+09  \n",
       "Australia  2.638248e+10  2.589415e+10  \n",
       "Brazil     3.295766e+10  3.153612e+10  \n",
       "Canada     1.846360e+10  1.745020e+10  \n",
       "China      1.912263e+11  2.164274e+11  "
      ]
     },
     "execution_count": 138,
     "metadata": {},
     "output_type": "execute_result"
    }
   ],
   "source": [
    "Total_Military.head()"
   ]
  },
  {
   "cell_type": "code",
   "execution_count": 139,
   "metadata": {
    "collapsed": false
   },
   "outputs": [
    {
     "data": {
      "text/html": [
       "<div>\n",
       "<table border=\"1\" class=\"dataframe\">\n",
       "  <thead>\n",
       "    <tr style=\"text-align: right;\">\n",
       "      <th></th>\n",
       "      <th>Country</th>\n",
       "      <th>2005</th>\n",
       "      <th>2006</th>\n",
       "      <th>2007</th>\n",
       "      <th>2008</th>\n",
       "      <th>2009</th>\n",
       "      <th>2010</th>\n",
       "      <th>2011</th>\n",
       "      <th>2012</th>\n",
       "      <th>2013</th>\n",
       "      <th>2014</th>\n",
       "    </tr>\n",
       "  </thead>\n",
       "  <tbody>\n",
       "    <tr>\n",
       "      <th>0</th>\n",
       "      <td>Argentina</td>\n",
       "      <td>1.683592e+09</td>\n",
       "      <td>1.833095e+09</td>\n",
       "      <td>2.278818e+09</td>\n",
       "      <td>2.757807e+09</td>\n",
       "      <td>2.951865e+09</td>\n",
       "      <td>3.452047e+09</td>\n",
       "      <td>4.018628e+09</td>\n",
       "      <td>4.524356e+09</td>\n",
       "      <td>5.059341e+09</td>\n",
       "      <td>4.264524e+09</td>\n",
       "    </tr>\n",
       "    <tr>\n",
       "      <th>1</th>\n",
       "      <td>Australia</td>\n",
       "      <td>1.303150e+10</td>\n",
       "      <td>1.415843e+10</td>\n",
       "      <td>1.612546e+10</td>\n",
       "      <td>1.988720e+10</td>\n",
       "      <td>1.789906e+10</td>\n",
       "      <td>2.229455e+10</td>\n",
       "      <td>2.542147e+10</td>\n",
       "      <td>2.610848e+10</td>\n",
       "      <td>2.638248e+10</td>\n",
       "      <td>2.589415e+10</td>\n",
       "    </tr>\n",
       "    <tr>\n",
       "      <th>2</th>\n",
       "      <td>Brazil</td>\n",
       "      <td>1.358856e+10</td>\n",
       "      <td>1.640509e+10</td>\n",
       "      <td>2.048534e+10</td>\n",
       "      <td>2.445250e+10</td>\n",
       "      <td>2.564919e+10</td>\n",
       "      <td>3.400352e+10</td>\n",
       "      <td>3.693687e+10</td>\n",
       "      <td>3.398648e+10</td>\n",
       "      <td>3.295766e+10</td>\n",
       "      <td>3.153612e+10</td>\n",
       "    </tr>\n",
       "    <tr>\n",
       "      <th>3</th>\n",
       "      <td>Canada</td>\n",
       "      <td>1.298770e+10</td>\n",
       "      <td>1.480937e+10</td>\n",
       "      <td>1.741714e+10</td>\n",
       "      <td>1.934278e+10</td>\n",
       "      <td>1.893623e+10</td>\n",
       "      <td>1.931494e+10</td>\n",
       "      <td>2.048408e+10</td>\n",
       "      <td>2.037529e+10</td>\n",
       "      <td>1.846360e+10</td>\n",
       "      <td>1.745020e+10</td>\n",
       "    </tr>\n",
       "    <tr>\n",
       "      <th>4</th>\n",
       "      <td>China</td>\n",
       "      <td>4.628827e+10</td>\n",
       "      <td>5.666340e+10</td>\n",
       "      <td>7.174499e+10</td>\n",
       "      <td>9.165744e+10</td>\n",
       "      <td>1.117780e+11</td>\n",
       "      <td>1.233328e+11</td>\n",
       "      <td>1.472568e+11</td>\n",
       "      <td>1.696054e+11</td>\n",
       "      <td>1.912263e+11</td>\n",
       "      <td>2.164274e+11</td>\n",
       "    </tr>\n",
       "  </tbody>\n",
       "</table>\n",
       "</div>"
      ],
      "text/plain": [
       "     Country          2005          2006          2007          2008  \\\n",
       "0  Argentina  1.683592e+09  1.833095e+09  2.278818e+09  2.757807e+09   \n",
       "1  Australia  1.303150e+10  1.415843e+10  1.612546e+10  1.988720e+10   \n",
       "2     Brazil  1.358856e+10  1.640509e+10  2.048534e+10  2.445250e+10   \n",
       "3     Canada  1.298770e+10  1.480937e+10  1.741714e+10  1.934278e+10   \n",
       "4      China  4.628827e+10  5.666340e+10  7.174499e+10  9.165744e+10   \n",
       "\n",
       "           2009          2010          2011          2012          2013  \\\n",
       "0  2.951865e+09  3.452047e+09  4.018628e+09  4.524356e+09  5.059341e+09   \n",
       "1  1.789906e+10  2.229455e+10  2.542147e+10  2.610848e+10  2.638248e+10   \n",
       "2  2.564919e+10  3.400352e+10  3.693687e+10  3.398648e+10  3.295766e+10   \n",
       "3  1.893623e+10  1.931494e+10  2.048408e+10  2.037529e+10  1.846360e+10   \n",
       "4  1.117780e+11  1.233328e+11  1.472568e+11  1.696054e+11  1.912263e+11   \n",
       "\n",
       "           2014  \n",
       "0  4.264524e+09  \n",
       "1  2.589415e+10  \n",
       "2  3.153612e+10  \n",
       "3  1.745020e+10  \n",
       "4  2.164274e+11  "
      ]
     },
     "execution_count": 139,
     "metadata": {},
     "output_type": "execute_result"
    }
   ],
   "source": [
    "MilitarySpending = Total_Military\n",
    "MilitarySpending = MilitarySpending.reset_index()\n",
    "MilitarySpending.head()"
   ]
  },
  {
   "cell_type": "code",
   "execution_count": 140,
   "metadata": {
    "collapsed": false
   },
   "outputs": [
    {
     "data": {
      "text/html": [
       "<iframe id=\"igraph\" scrolling=\"no\" style=\"border:none;\" seamless=\"seamless\" src=\"https://plot.ly/~Weihua/13.embed\" height=\"587px\" width=\"1116px\"></iframe>"
      ],
      "text/plain": [
       "<plotly.tools.PlotlyDisplay object>"
      ]
     },
     "execution_count": 140,
     "metadata": {},
     "output_type": "execute_result"
    }
   ],
   "source": [
    "MilitarySpending.iplot(kind='pie',labels='Country',values='2005')"
   ]
  },
  {
   "cell_type": "code",
   "execution_count": 141,
   "metadata": {
    "collapsed": false
   },
   "outputs": [
    {
     "data": {
      "text/html": [
       "<iframe id=\"igraph\" scrolling=\"no\" style=\"border:none;\" seamless=\"seamless\" src=\"https://plot.ly/~Weihua/15.embed\" height=\"587px\" width=\"1116px\"></iframe>"
      ],
      "text/plain": [
       "<plotly.tools.PlotlyDisplay object>"
      ]
     },
     "execution_count": 141,
     "metadata": {},
     "output_type": "execute_result"
    }
   ],
   "source": [
    "MilitarySpending.iplot(kind='pie',labels='Country',values='2006')"
   ]
  },
  {
   "cell_type": "code",
   "execution_count": 142,
   "metadata": {
    "collapsed": false
   },
   "outputs": [
    {
     "data": {
      "text/html": [
       "<iframe id=\"igraph\" scrolling=\"no\" style=\"border:none;\" seamless=\"seamless\" src=\"https://plot.ly/~Weihua/17.embed\" height=\"587px\" width=\"1116px\"></iframe>"
      ],
      "text/plain": [
       "<plotly.tools.PlotlyDisplay object>"
      ]
     },
     "execution_count": 142,
     "metadata": {},
     "output_type": "execute_result"
    }
   ],
   "source": [
    "MilitarySpending.iplot(kind='pie',labels='Country',values='2007')"
   ]
  },
  {
   "cell_type": "code",
   "execution_count": 143,
   "metadata": {
    "collapsed": false
   },
   "outputs": [
    {
     "data": {
      "text/html": [
       "<iframe id=\"igraph\" scrolling=\"no\" style=\"border:none;\" seamless=\"seamless\" src=\"https://plot.ly/~Weihua/19.embed\" height=\"587px\" width=\"1116px\"></iframe>"
      ],
      "text/plain": [
       "<plotly.tools.PlotlyDisplay object>"
      ]
     },
     "execution_count": 143,
     "metadata": {},
     "output_type": "execute_result"
    }
   ],
   "source": [
    "MilitarySpending.iplot(kind='pie',labels='Country',values='2008')"
   ]
  },
  {
   "cell_type": "code",
   "execution_count": 144,
   "metadata": {
    "collapsed": false
   },
   "outputs": [
    {
     "data": {
      "text/html": [
       "<iframe id=\"igraph\" scrolling=\"no\" style=\"border:none;\" seamless=\"seamless\" src=\"https://plot.ly/~Weihua/21.embed\" height=\"587px\" width=\"1116px\"></iframe>"
      ],
      "text/plain": [
       "<plotly.tools.PlotlyDisplay object>"
      ]
     },
     "execution_count": 144,
     "metadata": {},
     "output_type": "execute_result"
    }
   ],
   "source": [
    "MilitarySpending.iplot(kind='pie',labels='Country',values='2009')"
   ]
  },
  {
   "cell_type": "code",
   "execution_count": 145,
   "metadata": {
    "collapsed": false
   },
   "outputs": [
    {
     "data": {
      "text/html": [
       "<iframe id=\"igraph\" scrolling=\"no\" style=\"border:none;\" seamless=\"seamless\" src=\"https://plot.ly/~Weihua/23.embed\" height=\"587px\" width=\"1116px\"></iframe>"
      ],
      "text/plain": [
       "<plotly.tools.PlotlyDisplay object>"
      ]
     },
     "execution_count": 145,
     "metadata": {},
     "output_type": "execute_result"
    }
   ],
   "source": [
    "MilitarySpending.iplot(kind='pie',labels='Country',values='2010')"
   ]
  },
  {
   "cell_type": "code",
   "execution_count": 146,
   "metadata": {
    "collapsed": false
   },
   "outputs": [
    {
     "data": {
      "text/html": [
       "<iframe id=\"igraph\" scrolling=\"no\" style=\"border:none;\" seamless=\"seamless\" src=\"https://plot.ly/~Weihua/25.embed\" height=\"587px\" width=\"1116px\"></iframe>"
      ],
      "text/plain": [
       "<plotly.tools.PlotlyDisplay object>"
      ]
     },
     "execution_count": 146,
     "metadata": {},
     "output_type": "execute_result"
    }
   ],
   "source": [
    "MilitarySpending.iplot(kind='pie',labels='Country',values='2011')"
   ]
  },
  {
   "cell_type": "code",
   "execution_count": 147,
   "metadata": {
    "collapsed": false
   },
   "outputs": [
    {
     "data": {
      "text/html": [
       "<iframe id=\"igraph\" scrolling=\"no\" style=\"border:none;\" seamless=\"seamless\" src=\"https://plot.ly/~Weihua/27.embed\" height=\"587px\" width=\"1116px\"></iframe>"
      ],
      "text/plain": [
       "<plotly.tools.PlotlyDisplay object>"
      ]
     },
     "execution_count": 147,
     "metadata": {},
     "output_type": "execute_result"
    }
   ],
   "source": [
    "MilitarySpending.iplot(kind='pie',labels='Country',values='2012')"
   ]
  },
  {
   "cell_type": "code",
   "execution_count": 148,
   "metadata": {
    "collapsed": false
   },
   "outputs": [
    {
     "data": {
      "text/html": [
       "<iframe id=\"igraph\" scrolling=\"no\" style=\"border:none;\" seamless=\"seamless\" src=\"https://plot.ly/~Weihua/29.embed\" height=\"587px\" width=\"1116px\"></iframe>"
      ],
      "text/plain": [
       "<plotly.tools.PlotlyDisplay object>"
      ]
     },
     "execution_count": 148,
     "metadata": {},
     "output_type": "execute_result"
    }
   ],
   "source": [
    "MilitarySpending.iplot(kind='pie',labels='Country',values='2013')"
   ]
  },
  {
   "cell_type": "code",
   "execution_count": 149,
   "metadata": {
    "collapsed": false
   },
   "outputs": [
    {
     "data": {
      "text/html": [
       "<iframe id=\"igraph\" scrolling=\"no\" style=\"border:none;\" seamless=\"seamless\" src=\"https://plot.ly/~Weihua/31.embed\" height=\"587px\" width=\"1116px\"></iframe>"
      ],
      "text/plain": [
       "<plotly.tools.PlotlyDisplay object>"
      ]
     },
     "execution_count": 149,
     "metadata": {},
     "output_type": "execute_result"
    }
   ],
   "source": [
    "MilitarySpending.iplot(kind='pie',labels='Country',values='2014')"
   ]
  },
  {
   "cell_type": "code",
   "execution_count": 150,
   "metadata": {
    "collapsed": false
   },
   "outputs": [
    {
     "data": {
      "text/html": [
       "<div>\n",
       "<table border=\"1\" class=\"dataframe\">\n",
       "  <thead>\n",
       "    <tr style=\"text-align: right;\">\n",
       "      <th></th>\n",
       "      <th>2005PM</th>\n",
       "      <th>2006PM</th>\n",
       "      <th>2007PM</th>\n",
       "      <th>2008PM</th>\n",
       "      <th>2009PM</th>\n",
       "      <th>2010PM</th>\n",
       "      <th>2011PM</th>\n",
       "      <th>2012PM</th>\n",
       "      <th>2013PM</th>\n",
       "      <th>2014PM</th>\n",
       "    </tr>\n",
       "    <tr>\n",
       "      <th>Country</th>\n",
       "      <th></th>\n",
       "      <th></th>\n",
       "      <th></th>\n",
       "      <th></th>\n",
       "      <th></th>\n",
       "      <th></th>\n",
       "      <th></th>\n",
       "      <th></th>\n",
       "      <th></th>\n",
       "      <th></th>\n",
       "    </tr>\n",
       "  </thead>\n",
       "  <tbody>\n",
       "    <tr>\n",
       "      <th>Argentina</th>\n",
       "      <td>43.008572</td>\n",
       "      <td>46.338550</td>\n",
       "      <td>57.013343</td>\n",
       "      <td>68.293222</td>\n",
       "      <td>72.352045</td>\n",
       "      <td>83.741057</td>\n",
       "      <td>96.472669</td>\n",
       "      <td>107.479078</td>\n",
       "      <td>118.936131</td>\n",
       "      <td>99.221058</td>\n",
       "    </tr>\n",
       "    <tr>\n",
       "      <th>Australia</th>\n",
       "      <td>638.961844</td>\n",
       "      <td>684.051554</td>\n",
       "      <td>774.235210</td>\n",
       "      <td>935.903368</td>\n",
       "      <td>825.156976</td>\n",
       "      <td>1011.928135</td>\n",
       "      <td>1137.934003</td>\n",
       "      <td>1148.723346</td>\n",
       "      <td>1140.821035</td>\n",
       "      <td>1102.313363</td>\n",
       "    </tr>\n",
       "    <tr>\n",
       "      <th>Brazil</th>\n",
       "      <td>72.095812</td>\n",
       "      <td>86.026454</td>\n",
       "      <td>106.260280</td>\n",
       "      <td>125.545727</td>\n",
       "      <td>130.396673</td>\n",
       "      <td>171.203887</td>\n",
       "      <td>184.207647</td>\n",
       "      <td>167.916092</td>\n",
       "      <td>161.351981</td>\n",
       "      <td>153.030088</td>\n",
       "    </tr>\n",
       "    <tr>\n",
       "      <th>Canada</th>\n",
       "      <td>401.946776</td>\n",
       "      <td>454.686551</td>\n",
       "      <td>529.590673</td>\n",
       "      <td>581.811814</td>\n",
       "      <td>563.099338</td>\n",
       "      <td>567.998330</td>\n",
       "      <td>596.459660</td>\n",
       "      <td>586.266488</td>\n",
       "      <td>525.156108</td>\n",
       "      <td>490.995836</td>\n",
       "    </tr>\n",
       "    <tr>\n",
       "      <th>China</th>\n",
       "      <td>35.504765</td>\n",
       "      <td>43.220854</td>\n",
       "      <td>54.439490</td>\n",
       "      <td>69.193440</td>\n",
       "      <td>83.964036</td>\n",
       "      <td>92.197302</td>\n",
       "      <td>109.555496</td>\n",
       "      <td>125.568963</td>\n",
       "      <td>140.878989</td>\n",
       "      <td>158.639699</td>\n",
       "    </tr>\n",
       "  </tbody>\n",
       "</table>\n",
       "</div>"
      ],
      "text/plain": [
       "               2005PM      2006PM      2007PM      2008PM      2009PM  \\\n",
       "Country                                                                 \n",
       "Argentina   43.008572   46.338550   57.013343   68.293222   72.352045   \n",
       "Australia  638.961844  684.051554  774.235210  935.903368  825.156976   \n",
       "Brazil      72.095812   86.026454  106.260280  125.545727  130.396673   \n",
       "Canada     401.946776  454.686551  529.590673  581.811814  563.099338   \n",
       "China       35.504765   43.220854   54.439490   69.193440   83.964036   \n",
       "\n",
       "                2010PM       2011PM       2012PM       2013PM       2014PM  \n",
       "Country                                                                     \n",
       "Argentina    83.741057    96.472669   107.479078   118.936131    99.221058  \n",
       "Australia  1011.928135  1137.934003  1148.723346  1140.821035  1102.313363  \n",
       "Brazil      171.203887   184.207647   167.916092   161.351981   153.030088  \n",
       "Canada      567.998330   596.459660   586.266488   525.156108   490.995836  \n",
       "China        92.197302   109.555496   125.568963   140.878989   158.639699  "
      ]
     },
     "execution_count": 150,
     "metadata": {},
     "output_type": "execute_result"
    }
   ],
   "source": [
    "PM = Per_Military.rename(columns={'2005':'2005PM','2006':'2006PM','2007':'2007PM','2008':'2008PM','2009':'2009PM',\n",
    "                                    '2010':'2010PM','2011':'2011PM','2012':'2012PM','2013':'2013PM','2014':'2014PM',})\n",
    "PM.head()"
   ]
  },
  {
   "cell_type": "code",
   "execution_count": 151,
   "metadata": {
    "collapsed": false
   },
   "outputs": [
    {
     "data": {
      "text/html": [
       "<div>\n",
       "<table border=\"1\" class=\"dataframe\">\n",
       "  <thead>\n",
       "    <tr style=\"text-align: right;\">\n",
       "      <th></th>\n",
       "      <th>2005PG</th>\n",
       "      <th>2006PG</th>\n",
       "      <th>2007PG</th>\n",
       "      <th>2008PG</th>\n",
       "      <th>2009PG</th>\n",
       "      <th>2010PG</th>\n",
       "      <th>2011PG</th>\n",
       "      <th>2012PG</th>\n",
       "      <th>2013PG</th>\n",
       "      <th>2014PG</th>\n",
       "    </tr>\n",
       "    <tr>\n",
       "      <th>Country</th>\n",
       "      <th></th>\n",
       "      <th></th>\n",
       "      <th></th>\n",
       "      <th></th>\n",
       "      <th></th>\n",
       "      <th></th>\n",
       "      <th></th>\n",
       "      <th></th>\n",
       "      <th></th>\n",
       "      <th></th>\n",
       "    </tr>\n",
       "  </thead>\n",
       "  <tbody>\n",
       "    <tr>\n",
       "      <th>Argentina</th>\n",
       "      <td>5640.848503</td>\n",
       "      <td>6639.909435</td>\n",
       "      <td>8239.137161</td>\n",
       "      <td>9999.093517</td>\n",
       "      <td>9231.382900</td>\n",
       "      <td>11198.642567</td>\n",
       "      <td>13392.916904</td>\n",
       "      <td>14357.411589</td>\n",
       "      <td>14443.065651</td>\n",
       "      <td>12509.531118</td>\n",
       "    </tr>\n",
       "    <tr>\n",
       "      <th>Australia</th>\n",
       "      <td>33982.950427</td>\n",
       "      <td>36084.858978</td>\n",
       "      <td>40957.830439</td>\n",
       "      <td>49628.115127</td>\n",
       "      <td>42715.132262</td>\n",
       "      <td>51845.654861</td>\n",
       "      <td>62216.547129</td>\n",
       "      <td>67646.103853</td>\n",
       "      <td>67627.773335</td>\n",
       "      <td>61925.496062</td>\n",
       "    </tr>\n",
       "    <tr>\n",
       "      <th>Brazil</th>\n",
       "      <td>4733.164181</td>\n",
       "      <td>5809.189096</td>\n",
       "      <td>7240.923983</td>\n",
       "      <td>8700.455202</td>\n",
       "      <td>8462.508346</td>\n",
       "      <td>11124.245780</td>\n",
       "      <td>13042.421933</td>\n",
       "      <td>11922.513058</td>\n",
       "      <td>11711.004405</td>\n",
       "      <td>11384.415010</td>\n",
       "    </tr>\n",
       "    <tr>\n",
       "      <th>Canada</th>\n",
       "      <td>36028.232490</td>\n",
       "      <td>40243.552284</td>\n",
       "      <td>44328.475377</td>\n",
       "      <td>46400.441846</td>\n",
       "      <td>40764.141347</td>\n",
       "      <td>47463.631192</td>\n",
       "      <td>52086.533525</td>\n",
       "      <td>52733.473689</td>\n",
       "      <td>52305.258394</td>\n",
       "      <td>50235.385509</td>\n",
       "    </tr>\n",
       "    <tr>\n",
       "      <th>China</th>\n",
       "      <td>1740.096726</td>\n",
       "      <td>2082.183363</td>\n",
       "      <td>2673.294191</td>\n",
       "      <td>3441.221355</td>\n",
       "      <td>3800.474542</td>\n",
       "      <td>4514.940520</td>\n",
       "      <td>5574.187093</td>\n",
       "      <td>6264.643878</td>\n",
       "      <td>6991.853866</td>\n",
       "      <td>7590.016441</td>\n",
       "    </tr>\n",
       "  </tbody>\n",
       "</table>\n",
       "</div>"
      ],
      "text/plain": [
       "                 2005PG        2006PG        2007PG        2008PG  \\\n",
       "Country                                                             \n",
       "Argentina   5640.848503   6639.909435   8239.137161   9999.093517   \n",
       "Australia  33982.950427  36084.858978  40957.830439  49628.115127   \n",
       "Brazil      4733.164181   5809.189096   7240.923983   8700.455202   \n",
       "Canada     36028.232490  40243.552284  44328.475377  46400.441846   \n",
       "China       1740.096726   2082.183363   2673.294191   3441.221355   \n",
       "\n",
       "                 2009PG        2010PG        2011PG        2012PG  \\\n",
       "Country                                                             \n",
       "Argentina   9231.382900  11198.642567  13392.916904  14357.411589   \n",
       "Australia  42715.132262  51845.654861  62216.547129  67646.103853   \n",
       "Brazil      8462.508346  11124.245780  13042.421933  11922.513058   \n",
       "Canada     40764.141347  47463.631192  52086.533525  52733.473689   \n",
       "China       3800.474542   4514.940520   5574.187093   6264.643878   \n",
       "\n",
       "                 2013PG        2014PG  \n",
       "Country                                \n",
       "Argentina  14443.065651  12509.531118  \n",
       "Australia  67627.773335  61925.496062  \n",
       "Brazil     11711.004405  11384.415010  \n",
       "Canada     52305.258394  50235.385509  \n",
       "China       6991.853866   7590.016441  "
      ]
     },
     "execution_count": 151,
     "metadata": {},
     "output_type": "execute_result"
    }
   ],
   "source": [
    "PG = PG.rename(columns={'2005':'2005PG','2006':'2006PG','2007':'2007PG','2008':'2008PG','2009':'2009PG',\n",
    "                                    '2010':'2010PG','2011':'2011PG','2012':'2012PG','2013':'2013PG','2014':'2014PG',})\n",
    "PG.head()"
   ]
  },
  {
   "cell_type": "code",
   "execution_count": 152,
   "metadata": {
    "collapsed": false
   },
   "outputs": [
    {
     "data": {
      "text/html": [
       "<div>\n",
       "<table border=\"1\" class=\"dataframe\">\n",
       "  <thead>\n",
       "    <tr style=\"text-align: right;\">\n",
       "      <th></th>\n",
       "      <th>2005PM</th>\n",
       "      <th>2006PM</th>\n",
       "      <th>2007PM</th>\n",
       "      <th>2008PM</th>\n",
       "      <th>2009PM</th>\n",
       "      <th>2010PM</th>\n",
       "      <th>2011PM</th>\n",
       "      <th>2012PM</th>\n",
       "      <th>2013PM</th>\n",
       "      <th>2014PM</th>\n",
       "      <th>2005PG</th>\n",
       "      <th>2006PG</th>\n",
       "      <th>2007PG</th>\n",
       "      <th>2008PG</th>\n",
       "      <th>2009PG</th>\n",
       "      <th>2010PG</th>\n",
       "      <th>2011PG</th>\n",
       "      <th>2012PG</th>\n",
       "      <th>2013PG</th>\n",
       "      <th>2014PG</th>\n",
       "    </tr>\n",
       "    <tr>\n",
       "      <th>Country</th>\n",
       "      <th></th>\n",
       "      <th></th>\n",
       "      <th></th>\n",
       "      <th></th>\n",
       "      <th></th>\n",
       "      <th></th>\n",
       "      <th></th>\n",
       "      <th></th>\n",
       "      <th></th>\n",
       "      <th></th>\n",
       "      <th></th>\n",
       "      <th></th>\n",
       "      <th></th>\n",
       "      <th></th>\n",
       "      <th></th>\n",
       "      <th></th>\n",
       "      <th></th>\n",
       "      <th></th>\n",
       "      <th></th>\n",
       "      <th></th>\n",
       "    </tr>\n",
       "  </thead>\n",
       "  <tbody>\n",
       "    <tr>\n",
       "      <th>Argentina</th>\n",
       "      <td>43.008572</td>\n",
       "      <td>46.338550</td>\n",
       "      <td>57.013343</td>\n",
       "      <td>68.293222</td>\n",
       "      <td>72.352045</td>\n",
       "      <td>83.741057</td>\n",
       "      <td>96.472669</td>\n",
       "      <td>107.479078</td>\n",
       "      <td>118.936131</td>\n",
       "      <td>99.221058</td>\n",
       "      <td>5640.848503</td>\n",
       "      <td>6639.909435</td>\n",
       "      <td>8239.137161</td>\n",
       "      <td>9999.093517</td>\n",
       "      <td>9231.382900</td>\n",
       "      <td>11198.642567</td>\n",
       "      <td>13392.916904</td>\n",
       "      <td>14357.411589</td>\n",
       "      <td>14443.065651</td>\n",
       "      <td>12509.531118</td>\n",
       "    </tr>\n",
       "    <tr>\n",
       "      <th>Australia</th>\n",
       "      <td>638.961844</td>\n",
       "      <td>684.051554</td>\n",
       "      <td>774.235210</td>\n",
       "      <td>935.903368</td>\n",
       "      <td>825.156976</td>\n",
       "      <td>1011.928135</td>\n",
       "      <td>1137.934003</td>\n",
       "      <td>1148.723346</td>\n",
       "      <td>1140.821035</td>\n",
       "      <td>1102.313363</td>\n",
       "      <td>33982.950427</td>\n",
       "      <td>36084.858978</td>\n",
       "      <td>40957.830439</td>\n",
       "      <td>49628.115127</td>\n",
       "      <td>42715.132262</td>\n",
       "      <td>51845.654861</td>\n",
       "      <td>62216.547129</td>\n",
       "      <td>67646.103853</td>\n",
       "      <td>67627.773335</td>\n",
       "      <td>61925.496062</td>\n",
       "    </tr>\n",
       "    <tr>\n",
       "      <th>Brazil</th>\n",
       "      <td>72.095812</td>\n",
       "      <td>86.026454</td>\n",
       "      <td>106.260280</td>\n",
       "      <td>125.545727</td>\n",
       "      <td>130.396673</td>\n",
       "      <td>171.203887</td>\n",
       "      <td>184.207647</td>\n",
       "      <td>167.916092</td>\n",
       "      <td>161.351981</td>\n",
       "      <td>153.030088</td>\n",
       "      <td>4733.164181</td>\n",
       "      <td>5809.189096</td>\n",
       "      <td>7240.923983</td>\n",
       "      <td>8700.455202</td>\n",
       "      <td>8462.508346</td>\n",
       "      <td>11124.245780</td>\n",
       "      <td>13042.421933</td>\n",
       "      <td>11922.513058</td>\n",
       "      <td>11711.004405</td>\n",
       "      <td>11384.415010</td>\n",
       "    </tr>\n",
       "    <tr>\n",
       "      <th>Canada</th>\n",
       "      <td>401.946776</td>\n",
       "      <td>454.686551</td>\n",
       "      <td>529.590673</td>\n",
       "      <td>581.811814</td>\n",
       "      <td>563.099338</td>\n",
       "      <td>567.998330</td>\n",
       "      <td>596.459660</td>\n",
       "      <td>586.266488</td>\n",
       "      <td>525.156108</td>\n",
       "      <td>490.995836</td>\n",
       "      <td>36028.232490</td>\n",
       "      <td>40243.552284</td>\n",
       "      <td>44328.475377</td>\n",
       "      <td>46400.441846</td>\n",
       "      <td>40764.141347</td>\n",
       "      <td>47463.631192</td>\n",
       "      <td>52086.533525</td>\n",
       "      <td>52733.473689</td>\n",
       "      <td>52305.258394</td>\n",
       "      <td>50235.385509</td>\n",
       "    </tr>\n",
       "    <tr>\n",
       "      <th>China</th>\n",
       "      <td>35.504765</td>\n",
       "      <td>43.220854</td>\n",
       "      <td>54.439490</td>\n",
       "      <td>69.193440</td>\n",
       "      <td>83.964036</td>\n",
       "      <td>92.197302</td>\n",
       "      <td>109.555496</td>\n",
       "      <td>125.568963</td>\n",
       "      <td>140.878989</td>\n",
       "      <td>158.639699</td>\n",
       "      <td>1740.096726</td>\n",
       "      <td>2082.183363</td>\n",
       "      <td>2673.294191</td>\n",
       "      <td>3441.221355</td>\n",
       "      <td>3800.474542</td>\n",
       "      <td>4514.940520</td>\n",
       "      <td>5574.187093</td>\n",
       "      <td>6264.643878</td>\n",
       "      <td>6991.853866</td>\n",
       "      <td>7590.016441</td>\n",
       "    </tr>\n",
       "  </tbody>\n",
       "</table>\n",
       "</div>"
      ],
      "text/plain": [
       "               2005PM      2006PM      2007PM      2008PM      2009PM  \\\n",
       "Country                                                                 \n",
       "Argentina   43.008572   46.338550   57.013343   68.293222   72.352045   \n",
       "Australia  638.961844  684.051554  774.235210  935.903368  825.156976   \n",
       "Brazil      72.095812   86.026454  106.260280  125.545727  130.396673   \n",
       "Canada     401.946776  454.686551  529.590673  581.811814  563.099338   \n",
       "China       35.504765   43.220854   54.439490   69.193440   83.964036   \n",
       "\n",
       "                2010PM       2011PM       2012PM       2013PM       2014PM  \\\n",
       "Country                                                                      \n",
       "Argentina    83.741057    96.472669   107.479078   118.936131    99.221058   \n",
       "Australia  1011.928135  1137.934003  1148.723346  1140.821035  1102.313363   \n",
       "Brazil      171.203887   184.207647   167.916092   161.351981   153.030088   \n",
       "Canada      567.998330   596.459660   586.266488   525.156108   490.995836   \n",
       "China        92.197302   109.555496   125.568963   140.878989   158.639699   \n",
       "\n",
       "                 2005PG        2006PG        2007PG        2008PG  \\\n",
       "Country                                                             \n",
       "Argentina   5640.848503   6639.909435   8239.137161   9999.093517   \n",
       "Australia  33982.950427  36084.858978  40957.830439  49628.115127   \n",
       "Brazil      4733.164181   5809.189096   7240.923983   8700.455202   \n",
       "Canada     36028.232490  40243.552284  44328.475377  46400.441846   \n",
       "China       1740.096726   2082.183363   2673.294191   3441.221355   \n",
       "\n",
       "                 2009PG        2010PG        2011PG        2012PG  \\\n",
       "Country                                                             \n",
       "Argentina   9231.382900  11198.642567  13392.916904  14357.411589   \n",
       "Australia  42715.132262  51845.654861  62216.547129  67646.103853   \n",
       "Brazil      8462.508346  11124.245780  13042.421933  11922.513058   \n",
       "Canada     40764.141347  47463.631192  52086.533525  52733.473689   \n",
       "China       3800.474542   4514.940520   5574.187093   6264.643878   \n",
       "\n",
       "                 2013PG        2014PG  \n",
       "Country                                \n",
       "Argentina  14443.065651  12509.531118  \n",
       "Australia  67627.773335  61925.496062  \n",
       "Brazil     11711.004405  11384.415010  \n",
       "Canada     52305.258394  50235.385509  \n",
       "China       6991.853866   7590.016441  "
      ]
     },
     "execution_count": 152,
     "metadata": {},
     "output_type": "execute_result"
    }
   ],
   "source": [
    "PMPG = PM.join(PG)\n",
    "PMPG.head()"
   ]
  },
  {
   "cell_type": "code",
   "execution_count": 153,
   "metadata": {
    "collapsed": false
   },
   "outputs": [
    {
     "name": "stderr",
     "output_type": "stream",
     "text": [
      "C:\\Anaconda\\lib\\site-packages\\ipykernel\\__main__.py:2: SettingWithCopyWarning:\n",
      "\n",
      "\n",
      "A value is trying to be set on a copy of a slice from a DataFrame.\n",
      "Try using .loc[row_indexer,col_indexer] = value instead\n",
      "\n",
      "See the caveats in the documentation: http://pandas.pydata.org/pandas-docs/stable/indexing.html#indexing-view-versus-copy\n",
      "\n"
     ]
    },
    {
     "data": {
      "text/plain": [
       "<matplotlib.axes._subplots.AxesSubplot at 0x105a3ad0>"
      ]
     },
     "execution_count": 153,
     "metadata": {},
     "output_type": "execute_result"
    },
    {
     "data": {
      "image/png": "[encoded data removed]",
      "text/plain": [
       "<matplotlib.figure.Figure at 0x11ca5810>"
      ]
     },
     "metadata": {},
     "output_type": "display_data"
    }
   ],
   "source": [
    "PMPG2005 = PMPG[['2005PM','2005PG']]\n",
    "PMPG2005['2005PG'] = PMPG2005['2005PG']-PMPG2005['2005PM']\n",
    "PMPG2005.plot.bar(stacked=True)"
   ]
  },
  {
   "cell_type": "code",
   "execution_count": 154,
   "metadata": {
    "collapsed": false
   },
   "outputs": [
    {
     "name": "stderr",
     "output_type": "stream",
     "text": [
      "C:\\Anaconda\\lib\\site-packages\\ipykernel\\__main__.py:2: SettingWithCopyWarning:\n",
      "\n",
      "\n",
      "A value is trying to be set on a copy of a slice from a DataFrame.\n",
      "Try using .loc[row_indexer,col_indexer] = value instead\n",
      "\n",
      "See the caveats in the documentation: http://pandas.pydata.org/pandas-docs/stable/indexing.html#indexing-view-versus-copy\n",
      "\n"
     ]
    },
    {
     "data": {
      "text/plain": [
       "<matplotlib.axes._subplots.AxesSubplot at 0x11ef3690>"
      ]
     },
     "execution_count": 154,
     "metadata": {},
     "output_type": "execute_result"
    },
    {
     "data": {
      "image/png": "[encoded data removed]",
      "text/plain": [
       "<matplotlib.figure.Figure at 0x11efe510>"
      ]
     },
     "metadata": {},
     "output_type": "display_data"
    }
   ],
   "source": [
    "PMPG2006 = PMPG[['2006PM','2006PG']]\n",
    "PMPG2006['2006PG'] = PMPG2006['2006PG']-PMPG2006['2006PM']\n",
    "PMPG2006.plot.bar(stacked=True)"
   ]
  },
  {
   "cell_type": "code",
   "execution_count": 155,
   "metadata": {
    "collapsed": false
   },
   "outputs": [
    {
     "name": "stderr",
     "output_type": "stream",
     "text": [
      "C:\\Anaconda\\lib\\site-packages\\ipykernel\\__main__.py:2: SettingWithCopyWarning:\n",
      "\n",
      "\n",
      "A value is trying to be set on a copy of a slice from a DataFrame.\n",
      "Try using .loc[row_indexer,col_indexer] = value instead\n",
      "\n",
      "See the caveats in the documentation: http://pandas.pydata.org/pandas-docs/stable/indexing.html#indexing-view-versus-copy\n",
      "\n"
     ]
    },
    {
     "data": {
      "text/plain": [
       "<matplotlib.axes._subplots.AxesSubplot at 0x121d9490>"
      ]
     },
     "execution_count": 155,
     "metadata": {},
     "output_type": "execute_result"
    },
    {
     "data": {
      "image/png": "[encoded data removed]",
      "text/plain": [
       "<matplotlib.figure.Figure at 0x121e9930>"
      ]
     },
     "metadata": {},
     "output_type": "display_data"
    }
   ],
   "source": [
    "PMPG2007 = PMPG[['2007PM','2007PG']]\n",
    "PMPG2007['2007PG'] = PMPG2007['2007PG']-PMPG2007['2007PM']\n",
    "PMPG2007.plot.bar(stacked=True)"
   ]
  },
  {
   "cell_type": "code",
   "execution_count": 156,
   "metadata": {
    "collapsed": false
   },
   "outputs": [
    {
     "name": "stderr",
     "output_type": "stream",
     "text": [
      "C:\\Anaconda\\lib\\site-packages\\ipykernel\\__main__.py:2: SettingWithCopyWarning:\n",
      "\n",
      "\n",
      "A value is trying to be set on a copy of a slice from a DataFrame.\n",
      "Try using .loc[row_indexer,col_indexer] = value instead\n",
      "\n",
      "See the caveats in the documentation: http://pandas.pydata.org/pandas-docs/stable/indexing.html#indexing-view-versus-copy\n",
      "\n"
     ]
    },
    {
     "data": {
      "text/plain": [
       "<matplotlib.axes._subplots.AxesSubplot at 0x123db590>"
      ]
     },
     "execution_count": 156,
     "metadata": {},
     "output_type": "execute_result"
    },
    {
     "data": {
      "image/png": "[encoded data removed]",
      "text/plain": [
       "<matplotlib.figure.Figure at 0x121bc430>"
      ]
     },
     "metadata": {},
     "output_type": "display_data"
    }
   ],
   "source": [
    "PMPG2008 = PMPG[['2008PM','2008PG']]\n",
    "PMPG2008['2008PG'] = PMPG2008['2008PG']-PMPG2008['2008PM']\n",
    "PMPG2008.plot.bar(stacked=True)"
   ]
  },
  {
   "cell_type": "code",
   "execution_count": 157,
   "metadata": {
    "collapsed": false
   },
   "outputs": [
    {
     "name": "stderr",
     "output_type": "stream",
     "text": [
      "C:\\Anaconda\\lib\\site-packages\\ipykernel\\__main__.py:2: SettingWithCopyWarning:\n",
      "\n",
      "\n",
      "A value is trying to be set on a copy of a slice from a DataFrame.\n",
      "Try using .loc[row_indexer,col_indexer] = value instead\n",
      "\n",
      "See the caveats in the documentation: http://pandas.pydata.org/pandas-docs/stable/indexing.html#indexing-view-versus-copy\n",
      "\n"
     ]
    },
    {
     "data": {
      "text/plain": [
       "<matplotlib.axes._subplots.AxesSubplot at 0x1253a6b0>"
      ]
     },
     "execution_count": 157,
     "metadata": {},
     "output_type": "execute_result"
    },
    {
     "data": {
      "image/png": "[encoded data removed]",
      "text/plain": [
       "<matplotlib.figure.Figure at 0x12545050>"
      ]
     },
     "metadata": {},
     "output_type": "display_data"
    }
   ],
   "source": [
    "PMPG2009 = PMPG[['2009PM','2009PG']]\n",
    "PMPG2009['2009PG'] = PMPG2009['2009PG']-PMPG2009['2009PM']\n",
    "PMPG2009.plot.bar(stacked=True)"
   ]
  },
  {
   "cell_type": "code",
   "execution_count": 158,
   "metadata": {
    "collapsed": false
   },
   "outputs": [
    {
     "name": "stderr",
     "output_type": "stream",
     "text": [
      "C:\\Anaconda\\lib\\site-packages\\ipykernel\\__main__.py:2: SettingWithCopyWarning:\n",
      "\n",
      "\n",
      "A value is trying to be set on a copy of a slice from a DataFrame.\n",
      "Try using .loc[row_indexer,col_indexer] = value instead\n",
      "\n",
      "See the caveats in the documentation: http://pandas.pydata.org/pandas-docs/stable/indexing.html#indexing-view-versus-copy\n",
      "\n"
     ]
    },
    {
     "data": {
      "text/plain": [
       "<matplotlib.axes._subplots.AxesSubplot at 0x12744710>"
      ]
     },
     "execution_count": 158,
     "metadata": {},
     "output_type": "execute_result"
    },
    {
     "data": {
      "image/png": "[encoded data removed]",
      "text/plain": [
       "<matplotlib.figure.Figure at 0x1273cd70>"
      ]
     },
     "metadata": {},
     "output_type": "display_data"
    }
   ],
   "source": [
    "PMPG2010 = PMPG[['2010PM','2010PG']]\n",
    "PMPG2010['2010PG'] = PMPG2010['2010PG']-PMPG2010['2010PM']\n",
    "PMPG2010.plot.bar(stacked=True)"
   ]
  },
  {
   "cell_type": "code",
   "execution_count": 159,
   "metadata": {
    "collapsed": false
   },
   "outputs": [
    {
     "name": "stderr",
     "output_type": "stream",
     "text": [
      "C:\\Anaconda\\lib\\site-packages\\ipykernel\\__main__.py:2: SettingWithCopyWarning:\n",
      "\n",
      "\n",
      "A value is trying to be set on a copy of a slice from a DataFrame.\n",
      "Try using .loc[row_indexer,col_indexer] = value instead\n",
      "\n",
      "See the caveats in the documentation: http://pandas.pydata.org/pandas-docs/stable/indexing.html#indexing-view-versus-copy\n",
      "\n"
     ]
    },
    {
     "data": {
      "text/plain": [
       "<matplotlib.axes._subplots.AxesSubplot at 0x128c2e50>"
      ]
     },
     "execution_count": 159,
     "metadata": {},
     "output_type": "execute_result"
    },
    {
     "data": {
      "image/png": "[encoded data removed]",
      "text/plain": [
       "<matplotlib.figure.Figure at 0x127eacd0>"
      ]
     },
     "metadata": {},
     "output_type": "display_data"
    }
   ],
   "source": [
    "PMPG2011 = PMPG[['2011PM','2011PG']]\n",
    "PMPG2011['2011PG'] = PMPG2011['2011PG']-PMPG2011['2011PM']\n",
    "PMPG2011.plot.bar(stacked=True)"
   ]
  },
  {
   "cell_type": "code",
   "execution_count": 160,
   "metadata": {
    "collapsed": false
   },
   "outputs": [
    {
     "name": "stderr",
     "output_type": "stream",
     "text": [
      "C:\\Anaconda\\lib\\site-packages\\ipykernel\\__main__.py:2: SettingWithCopyWarning:\n",
      "\n",
      "\n",
      "A value is trying to be set on a copy of a slice from a DataFrame.\n",
      "Try using .loc[row_indexer,col_indexer] = value instead\n",
      "\n",
      "See the caveats in the documentation: http://pandas.pydata.org/pandas-docs/stable/indexing.html#indexing-view-versus-copy\n",
      "\n"
     ]
    },
    {
     "data": {
      "text/plain": [
       "<matplotlib.axes._subplots.AxesSubplot at 0x12aefc10>"
      ]
     },
     "execution_count": 160,
     "metadata": {},
     "output_type": "execute_result"
    },
    {
     "data": {
      "image/png": "[encoded data removed]",
      "text/plain": [
       "<matplotlib.figure.Figure at 0x1296e730>"
      ]
     },
     "metadata": {},
     "output_type": "display_data"
    }
   ],
   "source": [
    "PMPG2012 = PMPG[['2012PM','2012PG']]\n",
    "PMPG2012['2012PG'] = PMPG2012['2012PG']-PMPG2012['2012PM']\n",
    "PMPG2012.plot.bar(stacked=True)"
   ]
  },
  {
   "cell_type": "code",
   "execution_count": 161,
   "metadata": {
    "collapsed": false
   },
   "outputs": [
    {
     "name": "stderr",
     "output_type": "stream",
     "text": [
      "C:\\Anaconda\\lib\\site-packages\\ipykernel\\__main__.py:2: SettingWithCopyWarning:\n",
      "\n",
      "\n",
      "A value is trying to be set on a copy of a slice from a DataFrame.\n",
      "Try using .loc[row_indexer,col_indexer] = value instead\n",
      "\n",
      "See the caveats in the documentation: http://pandas.pydata.org/pandas-docs/stable/indexing.html#indexing-view-versus-copy\n",
      "\n"
     ]
    },
    {
     "data": {
      "text/plain": [
       "<matplotlib.axes._subplots.AxesSubplot at 0x12cb7170>"
      ]
     },
     "execution_count": 161,
     "metadata": {},
     "output_type": "execute_result"
    },
    {
     "data": {
      "image/png": "[encoded data removed]",
      "text/plain": [
       "<matplotlib.figure.Figure at 0x12ab8bf0>"
      ]
     },
     "metadata": {},
     "output_type": "display_data"
    }
   ],
   "source": [
    "PMPG2013 = PMPG[['2013PM','2013PG']]\n",
    "PMPG2013['2013PG'] = PMPG2013['2013PG']-PMPG2013['2013PM']\n",
    "PMPG2013.plot.bar(stacked=True)"
   ]
  },
  {
   "cell_type": "code",
   "execution_count": 162,
   "metadata": {
    "collapsed": false
   },
   "outputs": [
    {
     "name": "stderr",
     "output_type": "stream",
     "text": [
      "C:\\Anaconda\\lib\\site-packages\\ipykernel\\__main__.py:2: SettingWithCopyWarning:\n",
      "\n",
      "\n",
      "A value is trying to be set on a copy of a slice from a DataFrame.\n",
      "Try using .loc[row_indexer,col_indexer] = value instead\n",
      "\n",
      "See the caveats in the documentation: http://pandas.pydata.org/pandas-docs/stable/indexing.html#indexing-view-versus-copy\n",
      "\n"
     ]
    },
    {
     "data": {
      "text/plain": [
       "<matplotlib.axes._subplots.AxesSubplot at 0x12e5c3f0>"
      ]
     },
     "execution_count": 162,
     "metadata": {},
     "output_type": "execute_result"
    },
    {
     "data": {
      "image/png": "[encoded data removed]",
      "text/plain": [
       "<matplotlib.figure.Figure at 0x12aefd70>"
      ]
     },
     "metadata": {},
     "output_type": "display_data"
    }
   ],
   "source": [
    "PMPG2014 = PMPG[['2014PM','2014PG']]\n",
    "PMPG2014['2014PG'] = PMPG2014['2014PG']-PMPG2014['2014PM']\n",
    "PMPG2014.plot.bar(stacked=True)"
   ]
  },
  {
   "cell_type": "code",
   "execution_count": 163,
   "metadata": {
    "collapsed": false
   },
   "outputs": [
    {
     "data": {
      "text/html": [
       "<div>\n",
       "<table border=\"1\" class=\"dataframe\">\n",
       "  <thead>\n",
       "    <tr style=\"text-align: right;\">\n",
       "      <th></th>\n",
       "      <th>2005</th>\n",
       "      <th>2006</th>\n",
       "      <th>2007</th>\n",
       "      <th>2008</th>\n",
       "      <th>2009</th>\n",
       "      <th>2010</th>\n",
       "      <th>2011</th>\n",
       "      <th>2012</th>\n",
       "      <th>2013</th>\n",
       "      <th>2014</th>\n",
       "    </tr>\n",
       "    <tr>\n",
       "      <th>Country</th>\n",
       "      <th></th>\n",
       "      <th></th>\n",
       "      <th></th>\n",
       "      <th></th>\n",
       "      <th></th>\n",
       "      <th></th>\n",
       "      <th></th>\n",
       "      <th></th>\n",
       "      <th></th>\n",
       "      <th></th>\n",
       "    </tr>\n",
       "  </thead>\n",
       "  <tbody>\n",
       "    <tr>\n",
       "      <th>Argentina</th>\n",
       "      <td>1.683592e+09</td>\n",
       "      <td>1.833095e+09</td>\n",
       "      <td>2.278818e+09</td>\n",
       "      <td>2.757807e+09</td>\n",
       "      <td>2.951865e+09</td>\n",
       "      <td>3.452047e+09</td>\n",
       "      <td>4.018628e+09</td>\n",
       "      <td>4.524356e+09</td>\n",
       "      <td>5.059341e+09</td>\n",
       "      <td>4.264524e+09</td>\n",
       "    </tr>\n",
       "    <tr>\n",
       "      <th>Australia</th>\n",
       "      <td>1.303150e+10</td>\n",
       "      <td>1.415843e+10</td>\n",
       "      <td>1.612546e+10</td>\n",
       "      <td>1.988720e+10</td>\n",
       "      <td>1.789906e+10</td>\n",
       "      <td>2.229455e+10</td>\n",
       "      <td>2.542147e+10</td>\n",
       "      <td>2.610848e+10</td>\n",
       "      <td>2.638248e+10</td>\n",
       "      <td>2.589415e+10</td>\n",
       "    </tr>\n",
       "    <tr>\n",
       "      <th>Brazil</th>\n",
       "      <td>1.358856e+10</td>\n",
       "      <td>1.640509e+10</td>\n",
       "      <td>2.048534e+10</td>\n",
       "      <td>2.445250e+10</td>\n",
       "      <td>2.564919e+10</td>\n",
       "      <td>3.400352e+10</td>\n",
       "      <td>3.693687e+10</td>\n",
       "      <td>3.398648e+10</td>\n",
       "      <td>3.295766e+10</td>\n",
       "      <td>3.153612e+10</td>\n",
       "    </tr>\n",
       "    <tr>\n",
       "      <th>Canada</th>\n",
       "      <td>1.298770e+10</td>\n",
       "      <td>1.480937e+10</td>\n",
       "      <td>1.741714e+10</td>\n",
       "      <td>1.934278e+10</td>\n",
       "      <td>1.893623e+10</td>\n",
       "      <td>1.931494e+10</td>\n",
       "      <td>2.048408e+10</td>\n",
       "      <td>2.037529e+10</td>\n",
       "      <td>1.846360e+10</td>\n",
       "      <td>1.745020e+10</td>\n",
       "    </tr>\n",
       "    <tr>\n",
       "      <th>China</th>\n",
       "      <td>4.628827e+10</td>\n",
       "      <td>5.666340e+10</td>\n",
       "      <td>7.174499e+10</td>\n",
       "      <td>9.165744e+10</td>\n",
       "      <td>1.117780e+11</td>\n",
       "      <td>1.233328e+11</td>\n",
       "      <td>1.472568e+11</td>\n",
       "      <td>1.696054e+11</td>\n",
       "      <td>1.912263e+11</td>\n",
       "      <td>2.164274e+11</td>\n",
       "    </tr>\n",
       "  </tbody>\n",
       "</table>\n",
       "</div>"
      ],
      "text/plain": [
       "                   2005          2006          2007          2008  \\\n",
       "Country                                                             \n",
       "Argentina  1.683592e+09  1.833095e+09  2.278818e+09  2.757807e+09   \n",
       "Australia  1.303150e+10  1.415843e+10  1.612546e+10  1.988720e+10   \n",
       "Brazil     1.358856e+10  1.640509e+10  2.048534e+10  2.445250e+10   \n",
       "Canada     1.298770e+10  1.480937e+10  1.741714e+10  1.934278e+10   \n",
       "China      4.628827e+10  5.666340e+10  7.174499e+10  9.165744e+10   \n",
       "\n",
       "                   2009          2010          2011          2012  \\\n",
       "Country                                                             \n",
       "Argentina  2.951865e+09  3.452047e+09  4.018628e+09  4.524356e+09   \n",
       "Australia  1.789906e+10  2.229455e+10  2.542147e+10  2.610848e+10   \n",
       "Brazil     2.564919e+10  3.400352e+10  3.693687e+10  3.398648e+10   \n",
       "Canada     1.893623e+10  1.931494e+10  2.048408e+10  2.037529e+10   \n",
       "China      1.117780e+11  1.233328e+11  1.472568e+11  1.696054e+11   \n",
       "\n",
       "                   2013          2014  \n",
       "Country                                \n",
       "Argentina  5.059341e+09  4.264524e+09  \n",
       "Australia  2.638248e+10  2.589415e+10  \n",
       "Brazil     3.295766e+10  3.153612e+10  \n",
       "Canada     1.846360e+10  1.745020e+10  \n",
       "China      1.912263e+11  2.164274e+11  "
      ]
     },
     "execution_count": 163,
     "metadata": {},
     "output_type": "execute_result"
    }
   ],
   "source": [
    "Total_Military.head()"
   ]
  },
  {
   "cell_type": "code",
   "execution_count": 164,
   "metadata": {
    "collapsed": true
   },
   "outputs": [],
   "source": [
    "cf.set_config_file(offline=False, world_readable=True, theme='pearl')"
   ]
  },
  {
   "cell_type": "code",
   "execution_count": 165,
   "metadata": {
    "collapsed": false
   },
   "outputs": [
    {
     "data": {
      "text/html": [
       "<iframe id=\"igraph\" scrolling=\"no\" style=\"border:none;\" seamless=\"seamless\" src=\"https://plot.ly/~Weihua/33.embed\" height=\"587px\" width=\"1116px\"></iframe>"
      ],
      "text/plain": [
       "<plotly.tools.PlotlyDisplay object>"
      ]
     },
     "execution_count": 165,
     "metadata": {},
     "output_type": "execute_result"
    }
   ],
   "source": [
    "Total_Military = Total_Military.T\n",
    "Total_Military.iplot(subplots=True,  shared_xaxes=True, fill=True, filename='cufflinks/simple-subplots')"
   ]
  },
  {
   "cell_type": "code",
   "execution_count": null,
   "metadata": {
    "collapsed": true
   },
   "outputs": [],
   "source": []
  }
 ],
 "metadata": {
  "kernelspec": {
   "display_name": "Python 2",
   "language": "python",
   "name": "python2"
  },
  "language_info": {
   "codemirror_mode": {
    "name": "ipython",
    "version": 2
   },
   "file_extension": ".py",
   "mimetype": "text/x-python",
   "name": "python",
   "nbconvert_exporter": "python",
   "pygments_lexer": "ipython2",
   "version": "2.7.11"
  }
 },
 "nbformat": 4,
 "nbformat_minor": 0
}
